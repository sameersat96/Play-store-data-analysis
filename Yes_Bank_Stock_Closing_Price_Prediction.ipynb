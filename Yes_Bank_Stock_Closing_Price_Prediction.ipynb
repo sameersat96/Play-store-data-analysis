{
  "nbformat": 4,
  "nbformat_minor": 0,
  "metadata": {
    "colab": {
      "name": " Yes-Bank-Stock-Closing_Price_Prediction.ipynb",
      "provenance": [],
      "collapsed_sections": [],
      "authorship_tag": "ABX9TyM8UFnJDPKwOJxlcqPalGRz",
      "include_colab_link": true
    },
    "kernelspec": {
      "name": "python3",
      "display_name": "Python 3"
    },
    "language_info": {
      "name": "python"
    }
  },
  "cells": [
    {
      "cell_type": "markdown",
      "metadata": {
        "id": "view-in-github",
        "colab_type": "text"
      },
      "source": [
        "<a href=\"https://colab.research.google.com/github/sameersat96/Play-store-data-analysis/blob/main/Yes_Bank_Stock_Closing_Price_Prediction.ipynb\" target=\"_parent\"><img src=\"https://colab.research.google.com/assets/colab-badge.svg\" alt=\"Open In Colab\"/></a>"
      ]
    },
    {
      "cell_type": "markdown",
      "source": [
        "# **YES BANK STOCK CLOSING PRICE PREDICTION**\n",
        "\n",
        "\n",
        "**Yes Bank Limited is an Indian private sector bank headquartered in Mumbai, India and was founded by Rana Kapoor and Ashok Kapur in 2004.\n",
        "It offers wide range of differentiated products for corporate and retail customers through retail banking and asset management services. On 5 March 2020, in an attempt to avoid the collapse of the bank, which had an excessive amount of bad loans, the Reserve Bank of India (RBI) took control of it.**\n",
        "\n",
        "**Yes Bank is a well-known bank in the Indian financial domain. Since 2018, it has been in the\n",
        "news because of the fraud case involving Rana Kapoor. Owing to this fact, it was interesting\n",
        "to see how that impacted the stock prices of the company and whether Time series models\n",
        "or any other predictive models can do justice to such situations. This dataset has monthly\n",
        "stock prices of the bank since its inception and includes closing, starting, highest, and lowest\n",
        "stock prices of every month. The main objective is to predict the stock’s closing price of the\n",
        "month.**"
      ],
      "metadata": {
        "id": "m3c60Groeexw"
      }
    },
    {
      "cell_type": "markdown",
      "source": [
        "# **Importing requrired Libraries**"
      ],
      "metadata": {
        "id": "EClM7NTNi62Z"
      }
    },
    {
      "cell_type": "code",
      "source": [
        "#Importing libraries for data handelling\n",
        "import pandas as pd\n",
        "import numpy as np\n",
        "from numpy import math\n",
        "\n",
        "#Importing libraries for Data Visulization\n",
        "import matplotlib.pyplot as plt\n",
        "%matplotlib inline\n",
        "import seaborn as sns\n",
        "\n",
        "#Importing Machine Learning libraries\n",
        "from sklearn.preprocessing import MinMaxScaler\n",
        "from sklearn.preprocessing import StandardScaler\n",
        "from sklearn.model_selection import train_test_split\n",
        "from sklearn.linear_model import LinearRegression\n",
        "from sklearn.metrics import mean_squared_error\n",
        "from sklearn.metrics import mean_absolute_error\n",
        "from sklearn.metrics import mean_absolute_percentage_error\n",
        "from sklearn.metrics import r2_score\n",
        "\n",
        "import warnings\n",
        "warnings.filterwarnings('ignore')"
      ],
      "metadata": {
        "id": "G0dR75fJeoVG"
      },
      "execution_count": 162,
      "outputs": []
    },
    {
      "cell_type": "markdown",
      "source": [
        "# Loading Dataset"
      ],
      "metadata": {
        "id": "r5XkMwfAjatm"
      }
    },
    {
      "cell_type": "code",
      "source": [
        "\n",
        "from google.colab import drive\n",
        "drive.mount('/content/drive')"
      ],
      "metadata": {
        "colab": {
          "base_uri": "https://localhost:8080/"
        },
        "id": "Ra9kZBRvjPQy",
        "outputId": "aed42617-8fc3-4314-ee6b-cf5e2d97690b"
      },
      "execution_count": 163,
      "outputs": [
        {
          "output_type": "stream",
          "name": "stdout",
          "text": [
            "Drive already mounted at /content/drive; to attempt to forcibly remount, call drive.mount(\"/content/drive\", force_remount=True).\n"
          ]
        }
      ]
    },
    {
      "cell_type": "code",
      "source": [
        "df = pd.read_csv(\"/content/drive/MyDrive/Colab Notebooks/CAPSTONE PROJECT/Supervised learning ML- capstone 2/Copy of data_YesBank_StockPrices.csv\")"
      ],
      "metadata": {
        "id": "gwR6Q9eZjwp7"
      },
      "execution_count": 164,
      "outputs": []
    },
    {
      "cell_type": "code",
      "source": [
        "# First gothrough dataset\n",
        "df.head()"
      ],
      "metadata": {
        "colab": {
          "base_uri": "https://localhost:8080/",
          "height": 206
        },
        "id": "xo5A3POdkGJL",
        "outputId": "63baface-044c-4098-bfe7-b1e6fe200792"
      },
      "execution_count": 165,
      "outputs": [
        {
          "output_type": "execute_result",
          "data": {
            "text/html": [
              "\n",
              "  <div id=\"df-23b89982-3485-480e-a9a7-a8ca5025a0cd\">\n",
              "    <div class=\"colab-df-container\">\n",
              "      <div>\n",
              "<style scoped>\n",
              "    .dataframe tbody tr th:only-of-type {\n",
              "        vertical-align: middle;\n",
              "    }\n",
              "\n",
              "    .dataframe tbody tr th {\n",
              "        vertical-align: top;\n",
              "    }\n",
              "\n",
              "    .dataframe thead th {\n",
              "        text-align: right;\n",
              "    }\n",
              "</style>\n",
              "<table border=\"1\" class=\"dataframe\">\n",
              "  <thead>\n",
              "    <tr style=\"text-align: right;\">\n",
              "      <th></th>\n",
              "      <th>Date</th>\n",
              "      <th>Open</th>\n",
              "      <th>High</th>\n",
              "      <th>Low</th>\n",
              "      <th>Close</th>\n",
              "    </tr>\n",
              "  </thead>\n",
              "  <tbody>\n",
              "    <tr>\n",
              "      <th>0</th>\n",
              "      <td>Jul-05</td>\n",
              "      <td>13.00</td>\n",
              "      <td>14.00</td>\n",
              "      <td>11.25</td>\n",
              "      <td>12.46</td>\n",
              "    </tr>\n",
              "    <tr>\n",
              "      <th>1</th>\n",
              "      <td>Aug-05</td>\n",
              "      <td>12.58</td>\n",
              "      <td>14.88</td>\n",
              "      <td>12.55</td>\n",
              "      <td>13.42</td>\n",
              "    </tr>\n",
              "    <tr>\n",
              "      <th>2</th>\n",
              "      <td>Sep-05</td>\n",
              "      <td>13.48</td>\n",
              "      <td>14.87</td>\n",
              "      <td>12.27</td>\n",
              "      <td>13.30</td>\n",
              "    </tr>\n",
              "    <tr>\n",
              "      <th>3</th>\n",
              "      <td>Oct-05</td>\n",
              "      <td>13.20</td>\n",
              "      <td>14.47</td>\n",
              "      <td>12.40</td>\n",
              "      <td>12.99</td>\n",
              "    </tr>\n",
              "    <tr>\n",
              "      <th>4</th>\n",
              "      <td>Nov-05</td>\n",
              "      <td>13.35</td>\n",
              "      <td>13.88</td>\n",
              "      <td>12.88</td>\n",
              "      <td>13.41</td>\n",
              "    </tr>\n",
              "  </tbody>\n",
              "</table>\n",
              "</div>\n",
              "      <button class=\"colab-df-convert\" onclick=\"convertToInteractive('df-23b89982-3485-480e-a9a7-a8ca5025a0cd')\"\n",
              "              title=\"Convert this dataframe to an interactive table.\"\n",
              "              style=\"display:none;\">\n",
              "        \n",
              "  <svg xmlns=\"http://www.w3.org/2000/svg\" height=\"24px\"viewBox=\"0 0 24 24\"\n",
              "       width=\"24px\">\n",
              "    <path d=\"M0 0h24v24H0V0z\" fill=\"none\"/>\n",
              "    <path d=\"M18.56 5.44l.94 2.06.94-2.06 2.06-.94-2.06-.94-.94-2.06-.94 2.06-2.06.94zm-11 1L8.5 8.5l.94-2.06 2.06-.94-2.06-.94L8.5 2.5l-.94 2.06-2.06.94zm10 10l.94 2.06.94-2.06 2.06-.94-2.06-.94-.94-2.06-.94 2.06-2.06.94z\"/><path d=\"M17.41 7.96l-1.37-1.37c-.4-.4-.92-.59-1.43-.59-.52 0-1.04.2-1.43.59L10.3 9.45l-7.72 7.72c-.78.78-.78 2.05 0 2.83L4 21.41c.39.39.9.59 1.41.59.51 0 1.02-.2 1.41-.59l7.78-7.78 2.81-2.81c.8-.78.8-2.07 0-2.86zM5.41 20L4 18.59l7.72-7.72 1.47 1.35L5.41 20z\"/>\n",
              "  </svg>\n",
              "      </button>\n",
              "      \n",
              "  <style>\n",
              "    .colab-df-container {\n",
              "      display:flex;\n",
              "      flex-wrap:wrap;\n",
              "      gap: 12px;\n",
              "    }\n",
              "\n",
              "    .colab-df-convert {\n",
              "      background-color: #E8F0FE;\n",
              "      border: none;\n",
              "      border-radius: 50%;\n",
              "      cursor: pointer;\n",
              "      display: none;\n",
              "      fill: #1967D2;\n",
              "      height: 32px;\n",
              "      padding: 0 0 0 0;\n",
              "      width: 32px;\n",
              "    }\n",
              "\n",
              "    .colab-df-convert:hover {\n",
              "      background-color: #E2EBFA;\n",
              "      box-shadow: 0px 1px 2px rgba(60, 64, 67, 0.3), 0px 1px 3px 1px rgba(60, 64, 67, 0.15);\n",
              "      fill: #174EA6;\n",
              "    }\n",
              "\n",
              "    [theme=dark] .colab-df-convert {\n",
              "      background-color: #3B4455;\n",
              "      fill: #D2E3FC;\n",
              "    }\n",
              "\n",
              "    [theme=dark] .colab-df-convert:hover {\n",
              "      background-color: #434B5C;\n",
              "      box-shadow: 0px 1px 3px 1px rgba(0, 0, 0, 0.15);\n",
              "      filter: drop-shadow(0px 1px 2px rgba(0, 0, 0, 0.3));\n",
              "      fill: #FFFFFF;\n",
              "    }\n",
              "  </style>\n",
              "\n",
              "      <script>\n",
              "        const buttonEl =\n",
              "          document.querySelector('#df-23b89982-3485-480e-a9a7-a8ca5025a0cd button.colab-df-convert');\n",
              "        buttonEl.style.display =\n",
              "          google.colab.kernel.accessAllowed ? 'block' : 'none';\n",
              "\n",
              "        async function convertToInteractive(key) {\n",
              "          const element = document.querySelector('#df-23b89982-3485-480e-a9a7-a8ca5025a0cd');\n",
              "          const dataTable =\n",
              "            await google.colab.kernel.invokeFunction('convertToInteractive',\n",
              "                                                     [key], {});\n",
              "          if (!dataTable) return;\n",
              "\n",
              "          const docLinkHtml = 'Like what you see? Visit the ' +\n",
              "            '<a target=\"_blank\" href=https://colab.research.google.com/notebooks/data_table.ipynb>data table notebook</a>'\n",
              "            + ' to learn more about interactive tables.';\n",
              "          element.innerHTML = '';\n",
              "          dataTable['output_type'] = 'display_data';\n",
              "          await google.colab.output.renderOutput(dataTable, element);\n",
              "          const docLink = document.createElement('div');\n",
              "          docLink.innerHTML = docLinkHtml;\n",
              "          element.appendChild(docLink);\n",
              "        }\n",
              "      </script>\n",
              "    </div>\n",
              "  </div>\n",
              "  "
            ],
            "text/plain": [
              "     Date   Open   High    Low  Close\n",
              "0  Jul-05  13.00  14.00  11.25  12.46\n",
              "1  Aug-05  12.58  14.88  12.55  13.42\n",
              "2  Sep-05  13.48  14.87  12.27  13.30\n",
              "3  Oct-05  13.20  14.47  12.40  12.99\n",
              "4  Nov-05  13.35  13.88  12.88  13.41"
            ]
          },
          "metadata": {},
          "execution_count": 165
        }
      ]
    },
    {
      "cell_type": "markdown",
      "source": [
        "# **Data description**"
      ],
      "metadata": {
        "id": "u76rwWXQmsZt"
      }
    },
    {
      "cell_type": "markdown",
      "source": [
        "Dataset contains Yes Bank stock monthly prices since it listed on stock exchange. \n",
        "\n",
        "Following are its features:-\n",
        "\n",
        "* **Date**: In our data its monthly observation of stock since it listed.\n",
        "* **Open**: The price a stock when the stock exchange open for the day.\n",
        "* **High**: The maximum price of a stock attain during given period of time.\n",
        "* **Low**: The minimum price of a stock attain during given period of time.\n",
        "* **Close**: The price of a stock when the stock exchange closed for the day.\n"
      ],
      "metadata": {
        "id": "jbEt8Jhbmxiy"
      }
    },
    {
      "cell_type": "markdown",
      "source": [
        "# **Data Preprocessing**"
      ],
      "metadata": {
        "id": "cgGOn914o8nP"
      }
    },
    {
      "cell_type": "code",
      "source": [
        "#first look of data\n",
        "df.head(5)  # first 5 rows"
      ],
      "metadata": {
        "colab": {
          "base_uri": "https://localhost:8080/",
          "height": 206
        },
        "id": "tGINry03mrL0",
        "outputId": "1ab93f22-3fb4-46b0-b597-75e453f71232"
      },
      "execution_count": 166,
      "outputs": [
        {
          "output_type": "execute_result",
          "data": {
            "text/html": [
              "\n",
              "  <div id=\"df-658fc1f2-6d2f-4382-ac03-2961f9bd3943\">\n",
              "    <div class=\"colab-df-container\">\n",
              "      <div>\n",
              "<style scoped>\n",
              "    .dataframe tbody tr th:only-of-type {\n",
              "        vertical-align: middle;\n",
              "    }\n",
              "\n",
              "    .dataframe tbody tr th {\n",
              "        vertical-align: top;\n",
              "    }\n",
              "\n",
              "    .dataframe thead th {\n",
              "        text-align: right;\n",
              "    }\n",
              "</style>\n",
              "<table border=\"1\" class=\"dataframe\">\n",
              "  <thead>\n",
              "    <tr style=\"text-align: right;\">\n",
              "      <th></th>\n",
              "      <th>Date</th>\n",
              "      <th>Open</th>\n",
              "      <th>High</th>\n",
              "      <th>Low</th>\n",
              "      <th>Close</th>\n",
              "    </tr>\n",
              "  </thead>\n",
              "  <tbody>\n",
              "    <tr>\n",
              "      <th>0</th>\n",
              "      <td>Jul-05</td>\n",
              "      <td>13.00</td>\n",
              "      <td>14.00</td>\n",
              "      <td>11.25</td>\n",
              "      <td>12.46</td>\n",
              "    </tr>\n",
              "    <tr>\n",
              "      <th>1</th>\n",
              "      <td>Aug-05</td>\n",
              "      <td>12.58</td>\n",
              "      <td>14.88</td>\n",
              "      <td>12.55</td>\n",
              "      <td>13.42</td>\n",
              "    </tr>\n",
              "    <tr>\n",
              "      <th>2</th>\n",
              "      <td>Sep-05</td>\n",
              "      <td>13.48</td>\n",
              "      <td>14.87</td>\n",
              "      <td>12.27</td>\n",
              "      <td>13.30</td>\n",
              "    </tr>\n",
              "    <tr>\n",
              "      <th>3</th>\n",
              "      <td>Oct-05</td>\n",
              "      <td>13.20</td>\n",
              "      <td>14.47</td>\n",
              "      <td>12.40</td>\n",
              "      <td>12.99</td>\n",
              "    </tr>\n",
              "    <tr>\n",
              "      <th>4</th>\n",
              "      <td>Nov-05</td>\n",
              "      <td>13.35</td>\n",
              "      <td>13.88</td>\n",
              "      <td>12.88</td>\n",
              "      <td>13.41</td>\n",
              "    </tr>\n",
              "  </tbody>\n",
              "</table>\n",
              "</div>\n",
              "      <button class=\"colab-df-convert\" onclick=\"convertToInteractive('df-658fc1f2-6d2f-4382-ac03-2961f9bd3943')\"\n",
              "              title=\"Convert this dataframe to an interactive table.\"\n",
              "              style=\"display:none;\">\n",
              "        \n",
              "  <svg xmlns=\"http://www.w3.org/2000/svg\" height=\"24px\"viewBox=\"0 0 24 24\"\n",
              "       width=\"24px\">\n",
              "    <path d=\"M0 0h24v24H0V0z\" fill=\"none\"/>\n",
              "    <path d=\"M18.56 5.44l.94 2.06.94-2.06 2.06-.94-2.06-.94-.94-2.06-.94 2.06-2.06.94zm-11 1L8.5 8.5l.94-2.06 2.06-.94-2.06-.94L8.5 2.5l-.94 2.06-2.06.94zm10 10l.94 2.06.94-2.06 2.06-.94-2.06-.94-.94-2.06-.94 2.06-2.06.94z\"/><path d=\"M17.41 7.96l-1.37-1.37c-.4-.4-.92-.59-1.43-.59-.52 0-1.04.2-1.43.59L10.3 9.45l-7.72 7.72c-.78.78-.78 2.05 0 2.83L4 21.41c.39.39.9.59 1.41.59.51 0 1.02-.2 1.41-.59l7.78-7.78 2.81-2.81c.8-.78.8-2.07 0-2.86zM5.41 20L4 18.59l7.72-7.72 1.47 1.35L5.41 20z\"/>\n",
              "  </svg>\n",
              "      </button>\n",
              "      \n",
              "  <style>\n",
              "    .colab-df-container {\n",
              "      display:flex;\n",
              "      flex-wrap:wrap;\n",
              "      gap: 12px;\n",
              "    }\n",
              "\n",
              "    .colab-df-convert {\n",
              "      background-color: #E8F0FE;\n",
              "      border: none;\n",
              "      border-radius: 50%;\n",
              "      cursor: pointer;\n",
              "      display: none;\n",
              "      fill: #1967D2;\n",
              "      height: 32px;\n",
              "      padding: 0 0 0 0;\n",
              "      width: 32px;\n",
              "    }\n",
              "\n",
              "    .colab-df-convert:hover {\n",
              "      background-color: #E2EBFA;\n",
              "      box-shadow: 0px 1px 2px rgba(60, 64, 67, 0.3), 0px 1px 3px 1px rgba(60, 64, 67, 0.15);\n",
              "      fill: #174EA6;\n",
              "    }\n",
              "\n",
              "    [theme=dark] .colab-df-convert {\n",
              "      background-color: #3B4455;\n",
              "      fill: #D2E3FC;\n",
              "    }\n",
              "\n",
              "    [theme=dark] .colab-df-convert:hover {\n",
              "      background-color: #434B5C;\n",
              "      box-shadow: 0px 1px 3px 1px rgba(0, 0, 0, 0.15);\n",
              "      filter: drop-shadow(0px 1px 2px rgba(0, 0, 0, 0.3));\n",
              "      fill: #FFFFFF;\n",
              "    }\n",
              "  </style>\n",
              "\n",
              "      <script>\n",
              "        const buttonEl =\n",
              "          document.querySelector('#df-658fc1f2-6d2f-4382-ac03-2961f9bd3943 button.colab-df-convert');\n",
              "        buttonEl.style.display =\n",
              "          google.colab.kernel.accessAllowed ? 'block' : 'none';\n",
              "\n",
              "        async function convertToInteractive(key) {\n",
              "          const element = document.querySelector('#df-658fc1f2-6d2f-4382-ac03-2961f9bd3943');\n",
              "          const dataTable =\n",
              "            await google.colab.kernel.invokeFunction('convertToInteractive',\n",
              "                                                     [key], {});\n",
              "          if (!dataTable) return;\n",
              "\n",
              "          const docLinkHtml = 'Like what you see? Visit the ' +\n",
              "            '<a target=\"_blank\" href=https://colab.research.google.com/notebooks/data_table.ipynb>data table notebook</a>'\n",
              "            + ' to learn more about interactive tables.';\n",
              "          element.innerHTML = '';\n",
              "          dataTable['output_type'] = 'display_data';\n",
              "          await google.colab.output.renderOutput(dataTable, element);\n",
              "          const docLink = document.createElement('div');\n",
              "          docLink.innerHTML = docLinkHtml;\n",
              "          element.appendChild(docLink);\n",
              "        }\n",
              "      </script>\n",
              "    </div>\n",
              "  </div>\n",
              "  "
            ],
            "text/plain": [
              "     Date   Open   High    Low  Close\n",
              "0  Jul-05  13.00  14.00  11.25  12.46\n",
              "1  Aug-05  12.58  14.88  12.55  13.42\n",
              "2  Sep-05  13.48  14.87  12.27  13.30\n",
              "3  Oct-05  13.20  14.47  12.40  12.99\n",
              "4  Nov-05  13.35  13.88  12.88  13.41"
            ]
          },
          "metadata": {},
          "execution_count": 166
        }
      ]
    },
    {
      "cell_type": "code",
      "source": [
        "# last 5 rows\n",
        "df.tail(5)"
      ],
      "metadata": {
        "colab": {
          "base_uri": "https://localhost:8080/",
          "height": 206
        },
        "id": "7SCzpkRmmXNL",
        "outputId": "f1feedee-5077-47af-8dc9-1eccca2264cc"
      },
      "execution_count": 167,
      "outputs": [
        {
          "output_type": "execute_result",
          "data": {
            "text/html": [
              "\n",
              "  <div id=\"df-229a620f-f3a5-4156-9a59-d12cdd4d80b0\">\n",
              "    <div class=\"colab-df-container\">\n",
              "      <div>\n",
              "<style scoped>\n",
              "    .dataframe tbody tr th:only-of-type {\n",
              "        vertical-align: middle;\n",
              "    }\n",
              "\n",
              "    .dataframe tbody tr th {\n",
              "        vertical-align: top;\n",
              "    }\n",
              "\n",
              "    .dataframe thead th {\n",
              "        text-align: right;\n",
              "    }\n",
              "</style>\n",
              "<table border=\"1\" class=\"dataframe\">\n",
              "  <thead>\n",
              "    <tr style=\"text-align: right;\">\n",
              "      <th></th>\n",
              "      <th>Date</th>\n",
              "      <th>Open</th>\n",
              "      <th>High</th>\n",
              "      <th>Low</th>\n",
              "      <th>Close</th>\n",
              "    </tr>\n",
              "  </thead>\n",
              "  <tbody>\n",
              "    <tr>\n",
              "      <th>180</th>\n",
              "      <td>Jul-20</td>\n",
              "      <td>25.60</td>\n",
              "      <td>28.30</td>\n",
              "      <td>11.10</td>\n",
              "      <td>11.95</td>\n",
              "    </tr>\n",
              "    <tr>\n",
              "      <th>181</th>\n",
              "      <td>Aug-20</td>\n",
              "      <td>12.00</td>\n",
              "      <td>17.16</td>\n",
              "      <td>11.85</td>\n",
              "      <td>14.37</td>\n",
              "    </tr>\n",
              "    <tr>\n",
              "      <th>182</th>\n",
              "      <td>Sep-20</td>\n",
              "      <td>14.30</td>\n",
              "      <td>15.34</td>\n",
              "      <td>12.75</td>\n",
              "      <td>13.15</td>\n",
              "    </tr>\n",
              "    <tr>\n",
              "      <th>183</th>\n",
              "      <td>Oct-20</td>\n",
              "      <td>13.30</td>\n",
              "      <td>14.01</td>\n",
              "      <td>12.11</td>\n",
              "      <td>12.42</td>\n",
              "    </tr>\n",
              "    <tr>\n",
              "      <th>184</th>\n",
              "      <td>Nov-20</td>\n",
              "      <td>12.41</td>\n",
              "      <td>14.90</td>\n",
              "      <td>12.21</td>\n",
              "      <td>14.67</td>\n",
              "    </tr>\n",
              "  </tbody>\n",
              "</table>\n",
              "</div>\n",
              "      <button class=\"colab-df-convert\" onclick=\"convertToInteractive('df-229a620f-f3a5-4156-9a59-d12cdd4d80b0')\"\n",
              "              title=\"Convert this dataframe to an interactive table.\"\n",
              "              style=\"display:none;\">\n",
              "        \n",
              "  <svg xmlns=\"http://www.w3.org/2000/svg\" height=\"24px\"viewBox=\"0 0 24 24\"\n",
              "       width=\"24px\">\n",
              "    <path d=\"M0 0h24v24H0V0z\" fill=\"none\"/>\n",
              "    <path d=\"M18.56 5.44l.94 2.06.94-2.06 2.06-.94-2.06-.94-.94-2.06-.94 2.06-2.06.94zm-11 1L8.5 8.5l.94-2.06 2.06-.94-2.06-.94L8.5 2.5l-.94 2.06-2.06.94zm10 10l.94 2.06.94-2.06 2.06-.94-2.06-.94-.94-2.06-.94 2.06-2.06.94z\"/><path d=\"M17.41 7.96l-1.37-1.37c-.4-.4-.92-.59-1.43-.59-.52 0-1.04.2-1.43.59L10.3 9.45l-7.72 7.72c-.78.78-.78 2.05 0 2.83L4 21.41c.39.39.9.59 1.41.59.51 0 1.02-.2 1.41-.59l7.78-7.78 2.81-2.81c.8-.78.8-2.07 0-2.86zM5.41 20L4 18.59l7.72-7.72 1.47 1.35L5.41 20z\"/>\n",
              "  </svg>\n",
              "      </button>\n",
              "      \n",
              "  <style>\n",
              "    .colab-df-container {\n",
              "      display:flex;\n",
              "      flex-wrap:wrap;\n",
              "      gap: 12px;\n",
              "    }\n",
              "\n",
              "    .colab-df-convert {\n",
              "      background-color: #E8F0FE;\n",
              "      border: none;\n",
              "      border-radius: 50%;\n",
              "      cursor: pointer;\n",
              "      display: none;\n",
              "      fill: #1967D2;\n",
              "      height: 32px;\n",
              "      padding: 0 0 0 0;\n",
              "      width: 32px;\n",
              "    }\n",
              "\n",
              "    .colab-df-convert:hover {\n",
              "      background-color: #E2EBFA;\n",
              "      box-shadow: 0px 1px 2px rgba(60, 64, 67, 0.3), 0px 1px 3px 1px rgba(60, 64, 67, 0.15);\n",
              "      fill: #174EA6;\n",
              "    }\n",
              "\n",
              "    [theme=dark] .colab-df-convert {\n",
              "      background-color: #3B4455;\n",
              "      fill: #D2E3FC;\n",
              "    }\n",
              "\n",
              "    [theme=dark] .colab-df-convert:hover {\n",
              "      background-color: #434B5C;\n",
              "      box-shadow: 0px 1px 3px 1px rgba(0, 0, 0, 0.15);\n",
              "      filter: drop-shadow(0px 1px 2px rgba(0, 0, 0, 0.3));\n",
              "      fill: #FFFFFF;\n",
              "    }\n",
              "  </style>\n",
              "\n",
              "      <script>\n",
              "        const buttonEl =\n",
              "          document.querySelector('#df-229a620f-f3a5-4156-9a59-d12cdd4d80b0 button.colab-df-convert');\n",
              "        buttonEl.style.display =\n",
              "          google.colab.kernel.accessAllowed ? 'block' : 'none';\n",
              "\n",
              "        async function convertToInteractive(key) {\n",
              "          const element = document.querySelector('#df-229a620f-f3a5-4156-9a59-d12cdd4d80b0');\n",
              "          const dataTable =\n",
              "            await google.colab.kernel.invokeFunction('convertToInteractive',\n",
              "                                                     [key], {});\n",
              "          if (!dataTable) return;\n",
              "\n",
              "          const docLinkHtml = 'Like what you see? Visit the ' +\n",
              "            '<a target=\"_blank\" href=https://colab.research.google.com/notebooks/data_table.ipynb>data table notebook</a>'\n",
              "            + ' to learn more about interactive tables.';\n",
              "          element.innerHTML = '';\n",
              "          dataTable['output_type'] = 'display_data';\n",
              "          await google.colab.output.renderOutput(dataTable, element);\n",
              "          const docLink = document.createElement('div');\n",
              "          docLink.innerHTML = docLinkHtml;\n",
              "          element.appendChild(docLink);\n",
              "        }\n",
              "      </script>\n",
              "    </div>\n",
              "  </div>\n",
              "  "
            ],
            "text/plain": [
              "       Date   Open   High    Low  Close\n",
              "180  Jul-20  25.60  28.30  11.10  11.95\n",
              "181  Aug-20  12.00  17.16  11.85  14.37\n",
              "182  Sep-20  14.30  15.34  12.75  13.15\n",
              "183  Oct-20  13.30  14.01  12.11  12.42\n",
              "184  Nov-20  12.41  14.90  12.21  14.67"
            ]
          },
          "metadata": {},
          "execution_count": 167
        }
      ]
    },
    {
      "cell_type": "markdown",
      "source": [
        "Yes bank stock listed on month of july 2005.\n",
        "\n",
        "we have data available from july 2005 to november 2020"
      ],
      "metadata": {
        "id": "RCuLuuRyp_3v"
      }
    },
    {
      "cell_type": "code",
      "source": [
        "#Lets have look at shape of data\n",
        "df.shape\n"
      ],
      "metadata": {
        "colab": {
          "base_uri": "https://localhost:8080/"
        },
        "id": "LhLKEahmpZxx",
        "outputId": "c5baa47b-1f18-4734-a53b-2c311fb516ae"
      },
      "execution_count": 168,
      "outputs": [
        {
          "output_type": "execute_result",
          "data": {
            "text/plain": [
              "(185, 5)"
            ]
          },
          "metadata": {},
          "execution_count": 168
        }
      ]
    },
    {
      "cell_type": "code",
      "source": [
        "# details of dataset\n",
        "df.info()"
      ],
      "metadata": {
        "colab": {
          "base_uri": "https://localhost:8080/"
        },
        "id": "NSPzlq0JqiUP",
        "outputId": "821bd224-0f0b-46a8-ca3c-fbb33d76b746"
      },
      "execution_count": 169,
      "outputs": [
        {
          "output_type": "stream",
          "name": "stdout",
          "text": [
            "<class 'pandas.core.frame.DataFrame'>\n",
            "RangeIndex: 185 entries, 0 to 184\n",
            "Data columns (total 5 columns):\n",
            " #   Column  Non-Null Count  Dtype  \n",
            "---  ------  --------------  -----  \n",
            " 0   Date    185 non-null    object \n",
            " 1   Open    185 non-null    float64\n",
            " 2   High    185 non-null    float64\n",
            " 3   Low     185 non-null    float64\n",
            " 4   Close   185 non-null    float64\n",
            "dtypes: float64(4), object(1)\n",
            "memory usage: 7.4+ KB\n"
          ]
        }
      ]
    },
    {
      "cell_type": "markdown",
      "source": [
        "Need to change Date column to datetime.\n",
        "\n",
        "seems like no missing value in above data."
      ],
      "metadata": {
        "id": "YkPMgoPXq6fw"
      }
    },
    {
      "cell_type": "code",
      "source": [
        "#Summary of dataset\n",
        "df.describe()"
      ],
      "metadata": {
        "id": "UnjpKZbIq54a",
        "colab": {
          "base_uri": "https://localhost:8080/",
          "height": 300
        },
        "outputId": "e6cf7e40-aa1c-4494-c570-ede2670fb6ae"
      },
      "execution_count": 170,
      "outputs": [
        {
          "output_type": "execute_result",
          "data": {
            "text/html": [
              "\n",
              "  <div id=\"df-cb2cdf49-937b-46c7-ba43-d9f8e5606c07\">\n",
              "    <div class=\"colab-df-container\">\n",
              "      <div>\n",
              "<style scoped>\n",
              "    .dataframe tbody tr th:only-of-type {\n",
              "        vertical-align: middle;\n",
              "    }\n",
              "\n",
              "    .dataframe tbody tr th {\n",
              "        vertical-align: top;\n",
              "    }\n",
              "\n",
              "    .dataframe thead th {\n",
              "        text-align: right;\n",
              "    }\n",
              "</style>\n",
              "<table border=\"1\" class=\"dataframe\">\n",
              "  <thead>\n",
              "    <tr style=\"text-align: right;\">\n",
              "      <th></th>\n",
              "      <th>Open</th>\n",
              "      <th>High</th>\n",
              "      <th>Low</th>\n",
              "      <th>Close</th>\n",
              "    </tr>\n",
              "  </thead>\n",
              "  <tbody>\n",
              "    <tr>\n",
              "      <th>count</th>\n",
              "      <td>185.000000</td>\n",
              "      <td>185.000000</td>\n",
              "      <td>185.000000</td>\n",
              "      <td>185.000000</td>\n",
              "    </tr>\n",
              "    <tr>\n",
              "      <th>mean</th>\n",
              "      <td>105.541405</td>\n",
              "      <td>116.104324</td>\n",
              "      <td>94.947838</td>\n",
              "      <td>105.204703</td>\n",
              "    </tr>\n",
              "    <tr>\n",
              "      <th>std</th>\n",
              "      <td>98.879850</td>\n",
              "      <td>106.333497</td>\n",
              "      <td>91.219415</td>\n",
              "      <td>98.583153</td>\n",
              "    </tr>\n",
              "    <tr>\n",
              "      <th>min</th>\n",
              "      <td>10.000000</td>\n",
              "      <td>11.240000</td>\n",
              "      <td>5.550000</td>\n",
              "      <td>9.980000</td>\n",
              "    </tr>\n",
              "    <tr>\n",
              "      <th>25%</th>\n",
              "      <td>33.800000</td>\n",
              "      <td>36.140000</td>\n",
              "      <td>28.510000</td>\n",
              "      <td>33.450000</td>\n",
              "    </tr>\n",
              "    <tr>\n",
              "      <th>50%</th>\n",
              "      <td>62.980000</td>\n",
              "      <td>72.550000</td>\n",
              "      <td>58.000000</td>\n",
              "      <td>62.540000</td>\n",
              "    </tr>\n",
              "    <tr>\n",
              "      <th>75%</th>\n",
              "      <td>153.000000</td>\n",
              "      <td>169.190000</td>\n",
              "      <td>138.350000</td>\n",
              "      <td>153.300000</td>\n",
              "    </tr>\n",
              "    <tr>\n",
              "      <th>max</th>\n",
              "      <td>369.950000</td>\n",
              "      <td>404.000000</td>\n",
              "      <td>345.500000</td>\n",
              "      <td>367.900000</td>\n",
              "    </tr>\n",
              "  </tbody>\n",
              "</table>\n",
              "</div>\n",
              "      <button class=\"colab-df-convert\" onclick=\"convertToInteractive('df-cb2cdf49-937b-46c7-ba43-d9f8e5606c07')\"\n",
              "              title=\"Convert this dataframe to an interactive table.\"\n",
              "              style=\"display:none;\">\n",
              "        \n",
              "  <svg xmlns=\"http://www.w3.org/2000/svg\" height=\"24px\"viewBox=\"0 0 24 24\"\n",
              "       width=\"24px\">\n",
              "    <path d=\"M0 0h24v24H0V0z\" fill=\"none\"/>\n",
              "    <path d=\"M18.56 5.44l.94 2.06.94-2.06 2.06-.94-2.06-.94-.94-2.06-.94 2.06-2.06.94zm-11 1L8.5 8.5l.94-2.06 2.06-.94-2.06-.94L8.5 2.5l-.94 2.06-2.06.94zm10 10l.94 2.06.94-2.06 2.06-.94-2.06-.94-.94-2.06-.94 2.06-2.06.94z\"/><path d=\"M17.41 7.96l-1.37-1.37c-.4-.4-.92-.59-1.43-.59-.52 0-1.04.2-1.43.59L10.3 9.45l-7.72 7.72c-.78.78-.78 2.05 0 2.83L4 21.41c.39.39.9.59 1.41.59.51 0 1.02-.2 1.41-.59l7.78-7.78 2.81-2.81c.8-.78.8-2.07 0-2.86zM5.41 20L4 18.59l7.72-7.72 1.47 1.35L5.41 20z\"/>\n",
              "  </svg>\n",
              "      </button>\n",
              "      \n",
              "  <style>\n",
              "    .colab-df-container {\n",
              "      display:flex;\n",
              "      flex-wrap:wrap;\n",
              "      gap: 12px;\n",
              "    }\n",
              "\n",
              "    .colab-df-convert {\n",
              "      background-color: #E8F0FE;\n",
              "      border: none;\n",
              "      border-radius: 50%;\n",
              "      cursor: pointer;\n",
              "      display: none;\n",
              "      fill: #1967D2;\n",
              "      height: 32px;\n",
              "      padding: 0 0 0 0;\n",
              "      width: 32px;\n",
              "    }\n",
              "\n",
              "    .colab-df-convert:hover {\n",
              "      background-color: #E2EBFA;\n",
              "      box-shadow: 0px 1px 2px rgba(60, 64, 67, 0.3), 0px 1px 3px 1px rgba(60, 64, 67, 0.15);\n",
              "      fill: #174EA6;\n",
              "    }\n",
              "\n",
              "    [theme=dark] .colab-df-convert {\n",
              "      background-color: #3B4455;\n",
              "      fill: #D2E3FC;\n",
              "    }\n",
              "\n",
              "    [theme=dark] .colab-df-convert:hover {\n",
              "      background-color: #434B5C;\n",
              "      box-shadow: 0px 1px 3px 1px rgba(0, 0, 0, 0.15);\n",
              "      filter: drop-shadow(0px 1px 2px rgba(0, 0, 0, 0.3));\n",
              "      fill: #FFFFFF;\n",
              "    }\n",
              "  </style>\n",
              "\n",
              "      <script>\n",
              "        const buttonEl =\n",
              "          document.querySelector('#df-cb2cdf49-937b-46c7-ba43-d9f8e5606c07 button.colab-df-convert');\n",
              "        buttonEl.style.display =\n",
              "          google.colab.kernel.accessAllowed ? 'block' : 'none';\n",
              "\n",
              "        async function convertToInteractive(key) {\n",
              "          const element = document.querySelector('#df-cb2cdf49-937b-46c7-ba43-d9f8e5606c07');\n",
              "          const dataTable =\n",
              "            await google.colab.kernel.invokeFunction('convertToInteractive',\n",
              "                                                     [key], {});\n",
              "          if (!dataTable) return;\n",
              "\n",
              "          const docLinkHtml = 'Like what you see? Visit the ' +\n",
              "            '<a target=\"_blank\" href=https://colab.research.google.com/notebooks/data_table.ipynb>data table notebook</a>'\n",
              "            + ' to learn more about interactive tables.';\n",
              "          element.innerHTML = '';\n",
              "          dataTable['output_type'] = 'display_data';\n",
              "          await google.colab.output.renderOutput(dataTable, element);\n",
              "          const docLink = document.createElement('div');\n",
              "          docLink.innerHTML = docLinkHtml;\n",
              "          element.appendChild(docLink);\n",
              "        }\n",
              "      </script>\n",
              "    </div>\n",
              "  </div>\n",
              "  "
            ],
            "text/plain": [
              "             Open        High         Low       Close\n",
              "count  185.000000  185.000000  185.000000  185.000000\n",
              "mean   105.541405  116.104324   94.947838  105.204703\n",
              "std     98.879850  106.333497   91.219415   98.583153\n",
              "min     10.000000   11.240000    5.550000    9.980000\n",
              "25%     33.800000   36.140000   28.510000   33.450000\n",
              "50%     62.980000   72.550000   58.000000   62.540000\n",
              "75%    153.000000  169.190000  138.350000  153.300000\n",
              "max    369.950000  404.000000  345.500000  367.900000"
            ]
          },
          "metadata": {},
          "execution_count": 170
        }
      ]
    },
    {
      "cell_type": "markdown",
      "source": [
        "**Chekcing for missing values**"
      ],
      "metadata": {
        "id": "6_wa2JDOGVIR"
      }
    },
    {
      "cell_type": "code",
      "source": [
        "df.isnull().mean()"
      ],
      "metadata": {
        "id": "uQC_CA2yq0q8",
        "colab": {
          "base_uri": "https://localhost:8080/"
        },
        "outputId": "79937fb0-c4d6-46a4-ade8-de29ae16706c"
      },
      "execution_count": 171,
      "outputs": [
        {
          "output_type": "execute_result",
          "data": {
            "text/plain": [
              "Date     0.0\n",
              "Open     0.0\n",
              "High     0.0\n",
              "Low      0.0\n",
              "Close    0.0\n",
              "dtype: float64"
            ]
          },
          "metadata": {},
          "execution_count": 171
        }
      ]
    },
    {
      "cell_type": "markdown",
      "source": [
        "-NO missing values in dataset"
      ],
      "metadata": {
        "id": "jR-6plfpGg71"
      }
    },
    {
      "cell_type": "code",
      "source": [
        " #Checking duplicate rows\n",
        " df.duplicated().mean()"
      ],
      "metadata": {
        "colab": {
          "base_uri": "https://localhost:8080/"
        },
        "id": "HHDMkkvfGbup",
        "outputId": "9b8cf164-69ac-4b19-d3d1-04fed629f4c9"
      },
      "execution_count": 172,
      "outputs": [
        {
          "output_type": "execute_result",
          "data": {
            "text/plain": [
              "0.0"
            ]
          },
          "metadata": {},
          "execution_count": 172
        }
      ]
    },
    {
      "cell_type": "markdown",
      "source": [
        "**Changing data type to required format**"
      ],
      "metadata": {
        "id": "qZEOsHVCHcpW"
      }
    },
    {
      "cell_type": "code",
      "source": [
        "#Changing date colunn datatype to datetime format.\n",
        "from datetime import datetime\n",
        "\n",
        "#parsing date which is string of format %b-%y to datetime (%b for Month as locale’s abbreviated name and %y for Year without century as a zero-padded decimal number.\n",
        "df['Date'] = df['Date'].apply(lambda x: datetime.strptime(x, '%b-%y'))"
      ],
      "metadata": {
        "id": "UQe2ZCRjLd51"
      },
      "execution_count": 173,
      "outputs": []
    },
    {
      "cell_type": "code",
      "source": [
        "df.head()"
      ],
      "metadata": {
        "colab": {
          "base_uri": "https://localhost:8080/",
          "height": 206
        },
        "id": "I-imQ8B4N2oT",
        "outputId": "95ce960f-34af-42a5-f580-90784d50afc6"
      },
      "execution_count": 174,
      "outputs": [
        {
          "output_type": "execute_result",
          "data": {
            "text/html": [
              "\n",
              "  <div id=\"df-3f129167-708d-4779-9b7f-e220fbd6bfd3\">\n",
              "    <div class=\"colab-df-container\">\n",
              "      <div>\n",
              "<style scoped>\n",
              "    .dataframe tbody tr th:only-of-type {\n",
              "        vertical-align: middle;\n",
              "    }\n",
              "\n",
              "    .dataframe tbody tr th {\n",
              "        vertical-align: top;\n",
              "    }\n",
              "\n",
              "    .dataframe thead th {\n",
              "        text-align: right;\n",
              "    }\n",
              "</style>\n",
              "<table border=\"1\" class=\"dataframe\">\n",
              "  <thead>\n",
              "    <tr style=\"text-align: right;\">\n",
              "      <th></th>\n",
              "      <th>Date</th>\n",
              "      <th>Open</th>\n",
              "      <th>High</th>\n",
              "      <th>Low</th>\n",
              "      <th>Close</th>\n",
              "    </tr>\n",
              "  </thead>\n",
              "  <tbody>\n",
              "    <tr>\n",
              "      <th>0</th>\n",
              "      <td>2005-07-01</td>\n",
              "      <td>13.00</td>\n",
              "      <td>14.00</td>\n",
              "      <td>11.25</td>\n",
              "      <td>12.46</td>\n",
              "    </tr>\n",
              "    <tr>\n",
              "      <th>1</th>\n",
              "      <td>2005-08-01</td>\n",
              "      <td>12.58</td>\n",
              "      <td>14.88</td>\n",
              "      <td>12.55</td>\n",
              "      <td>13.42</td>\n",
              "    </tr>\n",
              "    <tr>\n",
              "      <th>2</th>\n",
              "      <td>2005-09-01</td>\n",
              "      <td>13.48</td>\n",
              "      <td>14.87</td>\n",
              "      <td>12.27</td>\n",
              "      <td>13.30</td>\n",
              "    </tr>\n",
              "    <tr>\n",
              "      <th>3</th>\n",
              "      <td>2005-10-01</td>\n",
              "      <td>13.20</td>\n",
              "      <td>14.47</td>\n",
              "      <td>12.40</td>\n",
              "      <td>12.99</td>\n",
              "    </tr>\n",
              "    <tr>\n",
              "      <th>4</th>\n",
              "      <td>2005-11-01</td>\n",
              "      <td>13.35</td>\n",
              "      <td>13.88</td>\n",
              "      <td>12.88</td>\n",
              "      <td>13.41</td>\n",
              "    </tr>\n",
              "  </tbody>\n",
              "</table>\n",
              "</div>\n",
              "      <button class=\"colab-df-convert\" onclick=\"convertToInteractive('df-3f129167-708d-4779-9b7f-e220fbd6bfd3')\"\n",
              "              title=\"Convert this dataframe to an interactive table.\"\n",
              "              style=\"display:none;\">\n",
              "        \n",
              "  <svg xmlns=\"http://www.w3.org/2000/svg\" height=\"24px\"viewBox=\"0 0 24 24\"\n",
              "       width=\"24px\">\n",
              "    <path d=\"M0 0h24v24H0V0z\" fill=\"none\"/>\n",
              "    <path d=\"M18.56 5.44l.94 2.06.94-2.06 2.06-.94-2.06-.94-.94-2.06-.94 2.06-2.06.94zm-11 1L8.5 8.5l.94-2.06 2.06-.94-2.06-.94L8.5 2.5l-.94 2.06-2.06.94zm10 10l.94 2.06.94-2.06 2.06-.94-2.06-.94-.94-2.06-.94 2.06-2.06.94z\"/><path d=\"M17.41 7.96l-1.37-1.37c-.4-.4-.92-.59-1.43-.59-.52 0-1.04.2-1.43.59L10.3 9.45l-7.72 7.72c-.78.78-.78 2.05 0 2.83L4 21.41c.39.39.9.59 1.41.59.51 0 1.02-.2 1.41-.59l7.78-7.78 2.81-2.81c.8-.78.8-2.07 0-2.86zM5.41 20L4 18.59l7.72-7.72 1.47 1.35L5.41 20z\"/>\n",
              "  </svg>\n",
              "      </button>\n",
              "      \n",
              "  <style>\n",
              "    .colab-df-container {\n",
              "      display:flex;\n",
              "      flex-wrap:wrap;\n",
              "      gap: 12px;\n",
              "    }\n",
              "\n",
              "    .colab-df-convert {\n",
              "      background-color: #E8F0FE;\n",
              "      border: none;\n",
              "      border-radius: 50%;\n",
              "      cursor: pointer;\n",
              "      display: none;\n",
              "      fill: #1967D2;\n",
              "      height: 32px;\n",
              "      padding: 0 0 0 0;\n",
              "      width: 32px;\n",
              "    }\n",
              "\n",
              "    .colab-df-convert:hover {\n",
              "      background-color: #E2EBFA;\n",
              "      box-shadow: 0px 1px 2px rgba(60, 64, 67, 0.3), 0px 1px 3px 1px rgba(60, 64, 67, 0.15);\n",
              "      fill: #174EA6;\n",
              "    }\n",
              "\n",
              "    [theme=dark] .colab-df-convert {\n",
              "      background-color: #3B4455;\n",
              "      fill: #D2E3FC;\n",
              "    }\n",
              "\n",
              "    [theme=dark] .colab-df-convert:hover {\n",
              "      background-color: #434B5C;\n",
              "      box-shadow: 0px 1px 3px 1px rgba(0, 0, 0, 0.15);\n",
              "      filter: drop-shadow(0px 1px 2px rgba(0, 0, 0, 0.3));\n",
              "      fill: #FFFFFF;\n",
              "    }\n",
              "  </style>\n",
              "\n",
              "      <script>\n",
              "        const buttonEl =\n",
              "          document.querySelector('#df-3f129167-708d-4779-9b7f-e220fbd6bfd3 button.colab-df-convert');\n",
              "        buttonEl.style.display =\n",
              "          google.colab.kernel.accessAllowed ? 'block' : 'none';\n",
              "\n",
              "        async function convertToInteractive(key) {\n",
              "          const element = document.querySelector('#df-3f129167-708d-4779-9b7f-e220fbd6bfd3');\n",
              "          const dataTable =\n",
              "            await google.colab.kernel.invokeFunction('convertToInteractive',\n",
              "                                                     [key], {});\n",
              "          if (!dataTable) return;\n",
              "\n",
              "          const docLinkHtml = 'Like what you see? Visit the ' +\n",
              "            '<a target=\"_blank\" href=https://colab.research.google.com/notebooks/data_table.ipynb>data table notebook</a>'\n",
              "            + ' to learn more about interactive tables.';\n",
              "          element.innerHTML = '';\n",
              "          dataTable['output_type'] = 'display_data';\n",
              "          await google.colab.output.renderOutput(dataTable, element);\n",
              "          const docLink = document.createElement('div');\n",
              "          docLink.innerHTML = docLinkHtml;\n",
              "          element.appendChild(docLink);\n",
              "        }\n",
              "      </script>\n",
              "    </div>\n",
              "  </div>\n",
              "  "
            ],
            "text/plain": [
              "        Date   Open   High    Low  Close\n",
              "0 2005-07-01  13.00  14.00  11.25  12.46\n",
              "1 2005-08-01  12.58  14.88  12.55  13.42\n",
              "2 2005-09-01  13.48  14.87  12.27  13.30\n",
              "3 2005-10-01  13.20  14.47  12.40  12.99\n",
              "4 2005-11-01  13.35  13.88  12.88  13.41"
            ]
          },
          "metadata": {},
          "execution_count": 174
        }
      ]
    },
    {
      "cell_type": "markdown",
      "source": [
        "**Checking datatype again**"
      ],
      "metadata": {
        "id": "kNOgDsnvOMKo"
      }
    },
    {
      "cell_type": "code",
      "source": [
        "df.info()"
      ],
      "metadata": {
        "colab": {
          "base_uri": "https://localhost:8080/"
        },
        "id": "fnN-fqnPN5UO",
        "outputId": "9ad58b3a-3816-4972-9000-80f525b1687a"
      },
      "execution_count": 175,
      "outputs": [
        {
          "output_type": "stream",
          "name": "stdout",
          "text": [
            "<class 'pandas.core.frame.DataFrame'>\n",
            "RangeIndex: 185 entries, 0 to 184\n",
            "Data columns (total 5 columns):\n",
            " #   Column  Non-Null Count  Dtype         \n",
            "---  ------  --------------  -----         \n",
            " 0   Date    185 non-null    datetime64[ns]\n",
            " 1   Open    185 non-null    float64       \n",
            " 2   High    185 non-null    float64       \n",
            " 3   Low     185 non-null    float64       \n",
            " 4   Close   185 non-null    float64       \n",
            "dtypes: datetime64[ns](1), float64(4)\n",
            "memory usage: 7.4 KB\n"
          ]
        }
      ]
    },
    {
      "cell_type": "markdown",
      "source": [
        "-----YES!!! datatype change into reqiured format"
      ],
      "metadata": {
        "id": "Ku7cy0htOaKo"
      }
    },
    {
      "cell_type": "markdown",
      "source": [
        "# **Exploratory data analysis**"
      ],
      "metadata": {
        "id": "avnXx_oiOp6W"
      }
    },
    {
      "cell_type": "markdown",
      "source": [
        "!!! now its time to visualise things.\n",
        "\n",
        "firstly will see how closing price change with given time"
      ],
      "metadata": {
        "id": "Gj8DmQdhO3pI"
      }
    },
    {
      "cell_type": "code",
      "source": [
        "#Ploting close price of stock vs time\n",
        "plt.figure(figsize=(12,6))\n",
        "plt.grid(True)\n",
        "plt.xlabel('Year', fontsize=14)\n",
        "plt.ylabel('Close Price' ,fontsize=14)\n",
        "plt.plot(df['Date'], df['Close'] , color=\"red\")\n",
        "plt.title('Yes Bank closing price', fontsize=18)\n",
        "\n",
        "plt.show()"
      ],
      "metadata": {
        "colab": {
          "base_uri": "https://localhost:8080/",
          "height": 412
        },
        "id": "ItVPb6AfOV9i",
        "outputId": "5d08942a-d250-494e-bd63-95d61c470671"
      },
      "execution_count": 176,
      "outputs": [
        {
          "output_type": "display_data",
          "data": {
            "image/png": "[encoded data removed]",
            "text/plain": [
              "<Figure size 864x432 with 1 Axes>"
            ]
          },
          "metadata": {
            "needs_background": "light"
          }
        }
      ]
    },
    {
      "cell_type": "markdown",
      "source": [
        "After 2018 yes bank stock price fall beacuse of fraud case regarding to Rana kapoor"
      ],
      "metadata": {
        "id": "Zcet6qKNTXI_"
      }
    },
    {
      "cell_type": "markdown",
      "source": [
        "**VIsualize all close,high,open and low price of stock**"
      ],
      "metadata": {
        "id": "qwTA0zXoTyhm"
      }
    },
    {
      "cell_type": "code",
      "source": [
        "plt.figure(figsize=(14,7))\n",
        "plt.grid(True)\n",
        "plt.xlabel('Year', fontsize=14)\n",
        "plt.ylabel(' Price' ,fontsize=14)\n",
        "plt.plot(df['Date'], df['Close'])\n",
        "plt.plot(df['Date'], df['Open'])\n",
        "plt.plot(df['Date'], df['Low'])\n",
        "plt.plot(df['Date'], df['High'])\n",
        "plt.legend(['Close','Open','Low','High'])\n",
        "plt.title('Combined Plot: Close, Open, Low & High Stock Price', fontsize=18)\n",
        "plt.show()"
      ],
      "metadata": {
        "colab": {
          "base_uri": "https://localhost:8080/",
          "height": 466
        },
        "id": "_v1b14mSPe7E",
        "outputId": "2a1d7c90-27af-4f43-9847-ee9fe1b663b6"
      },
      "execution_count": 177,
      "outputs": [
        {
          "output_type": "display_data",
          "data": {
            "image/png": "[encoded data removed]",
            "text/plain": [
              "<Figure size 1008x504 with 1 Axes>"
            ]
          },
          "metadata": {
            "needs_background": "light"
          }
        }
      ]
    },
    {
      "cell_type": "markdown",
      "source": [
        "we can see in 2017 to 2019 there can be high action seen because of difference in high and low lines."
      ],
      "metadata": {
        "id": "X5vsTINPVuoN"
      }
    },
    {
      "cell_type": "markdown",
      "source": [
        "Closing price of stock price is always important so i take close price as dependent variable "
      ],
      "metadata": {
        "id": "2_xiubJ1WZjq"
      }
    },
    {
      "cell_type": "markdown",
      "source": [
        "# **Distribution of dependant variable  Close Price of stock.**"
      ],
      "metadata": {
        "id": "R6_gwGzPWuAh"
      }
    },
    {
      "cell_type": "code",
      "source": [
        "# Now will see distribution of close price to know about normal distribution\n",
        "# i use distplot for that\n",
        "plt.figure(figsize=(6,5))\n",
        "sns.distplot(df['Close'],color='green')\n",
        "plt.title('Distribution of Close Price', fontsize=16)\n",
        "plt.xlabel('Closing Price', fontsize=12)\n",
        "plt.ylabel('Density', fontsize=12)\n",
        "plt.show()"
      ],
      "metadata": {
        "colab": {
          "base_uri": "https://localhost:8080/",
          "height": 355
        },
        "id": "nF_JHj-fVFN3",
        "outputId": "19e22975-8501-48fc-8049-3bdabbabb209"
      },
      "execution_count": 178,
      "outputs": [
        {
          "output_type": "display_data",
          "data": {
            "image/png": "[encoded data removed]",
            "text/plain": [
              "<Figure size 432x360 with 1 Axes>"
            ]
          },
          "metadata": {
            "needs_background": "light"
          }
        }
      ]
    },
    {
      "cell_type": "markdown",
      "source": [
        "It is rightly skewed distribution.\n",
        "\n",
        "need to go with log transformation to make it normal distribution"
      ],
      "metadata": {
        "id": "cJvjDfWuXeqz"
      }
    },
    {
      "cell_type": "code",
      "source": [
        "#distribution plot of Close price by applying log transformation\n",
        "plt.figure(figsize=(6,5))\n",
        "sns.distplot(np.log10(df['Close']),color='green')\n",
        "plt.title('Distribution of Close Price', fontsize=16)\n",
        "plt.xlabel('Log of Closing Price', fontsize=12)\n",
        "plt.ylabel('Density', fontsize=12)\n",
        "plt.show()"
      ],
      "metadata": {
        "colab": {
          "base_uri": "https://localhost:8080/",
          "height": 355
        },
        "id": "7NTo0o5TXWWc",
        "outputId": "ee72b186-0417-4be0-9a66-cc396806e49e"
      },
      "execution_count": 179,
      "outputs": [
        {
          "output_type": "display_data",
          "data": {
            "image/png": "[encoded data removed]",
            "text/plain": [
              "<Figure size 432x360 with 1 Axes>"
            ]
          },
          "metadata": {
            "needs_background": "light"
          }
        }
      ]
    },
    {
      "cell_type": "markdown",
      "source": [
        "Now it seems more normal "
      ],
      "metadata": {
        "id": "hSLWDccKcNrZ"
      }
    },
    {
      "cell_type": "markdown",
      "source": [
        "# **Distribution of numerical features High, Low and Open price of stock.**"
      ],
      "metadata": {
        "id": "wD8LW8eCdfmF"
      }
    },
    {
      "cell_type": "code",
      "source": [
        "df.describe().columns"
      ],
      "metadata": {
        "colab": {
          "base_uri": "https://localhost:8080/"
        },
        "id": "eVp7qVm_cJql",
        "outputId": "f537d4ae-5f2e-4c7f-f193-1c2c725d1431"
      },
      "execution_count": 180,
      "outputs": [
        {
          "output_type": "execute_result",
          "data": {
            "text/plain": [
              "Index(['Open', 'High', 'Low', 'Close'], dtype='object')"
            ]
          },
          "metadata": {},
          "execution_count": 180
        }
      ]
    },
    {
      "cell_type": "code",
      "source": [
        "# List of independent features\n",
        "numerical_features = list(set(df.describe().columns)-{'Close'})\n",
        "numerical_features"
      ],
      "metadata": {
        "colab": {
          "base_uri": "https://localhost:8080/"
        },
        "id": "HRbl4lQqdw5u",
        "outputId": "3098d893-c2b1-44e8-c853-c5558fdfab78"
      },
      "execution_count": 181,
      "outputs": [
        {
          "output_type": "execute_result",
          "data": {
            "text/plain": [
              "['Low', 'Open', 'High']"
            ]
          },
          "metadata": {},
          "execution_count": 181
        }
      ]
    },
    {
      "cell_type": "code",
      "source": [
        "#Plotting distribution for each of numerical features.\n",
        "for col in numerical_features:\n",
        "    plt.figure(figsize=(6,5))\n",
        "    sns.distplot(df[col], color='green')\n",
        "    plt.title(\"Distribution\", fontsize=16)\n",
        "    plt.xlabel(col, fontsize=12)\n",
        "    plt.ylabel('Density', fontsize=12)\n",
        "plt.show"
      ],
      "metadata": {
        "colab": {
          "base_uri": "https://localhost:8080/",
          "height": 1000
        },
        "id": "rD2-QSoheEYT",
        "outputId": "d4bde2ed-519d-4d17-aed6-0210597ce8aa"
      },
      "execution_count": 182,
      "outputs": [
        {
          "output_type": "execute_result",
          "data": {
            "text/plain": [
              "<function matplotlib.pyplot.show>"
            ]
          },
          "metadata": {},
          "execution_count": 182
        },
        {
          "output_type": "display_data",
          "data": {
            "image/png": "[encoded data removed]",
            "text/plain": [
              "<Figure size 432x360 with 1 Axes>"
            ]
          },
          "metadata": {
            "needs_background": "light"
          }
        },
        {
          "output_type": "display_data",
          "data": {
            "image/png": "[encoded data removed]",
            "text/plain": [
              "<Figure size 432x360 with 1 Axes>"
            ]
          },
          "metadata": {
            "needs_background": "light"
          }
        },
        {
          "output_type": "display_data",
          "data": {
            "image/png": "[encoded data removed]",
            "text/plain": [
              "<Figure size 432x360 with 1 Axes>"
            ]
          },
          "metadata": {
            "needs_background": "light"
          }
        }
      ]
    },
    {
      "cell_type": "markdown",
      "source": [
        "* It looks all numerical features are rightly skewed.\n",
        "* Apply log transformation to make normal."
      ],
      "metadata": {
        "id": "qzfXJyNLfXHD"
      }
    },
    {
      "cell_type": "code",
      "source": [
        "# Applying log transformation\n",
        "for col in numerical_features:\n",
        "    plt.figure(figsize=(6,5))\n",
        "    sns.distplot(np.log10(df[col]), color='green')\n",
        "    plt.title(\"Distribution\", fontsize=16)\n",
        "    plt.xlabel(col, fontsize=12)\n",
        "    plt.ylabel('Density', fontsize=12)\n",
        "plt.show"
      ],
      "metadata": {
        "colab": {
          "base_uri": "https://localhost:8080/",
          "height": 1000
        },
        "id": "LQzwUqvAfSJF",
        "outputId": "da73bf3b-f3b4-4d15-d94c-22765f082131"
      },
      "execution_count": 183,
      "outputs": [
        {
          "output_type": "execute_result",
          "data": {
            "text/plain": [
              "<function matplotlib.pyplot.show>"
            ]
          },
          "metadata": {},
          "execution_count": 183
        },
        {
          "output_type": "display_data",
          "data": {
            "image/png": "[encoded data removed]",
            "text/plain": [
              "<Figure size 432x360 with 1 Axes>"
            ]
          },
          "metadata": {
            "needs_background": "light"
          }
        },
        {
          "output_type": "display_data",
          "data": {
            "image/png": "[encoded data removed]",
            "text/plain": [
              "<Figure size 432x360 with 1 Axes>"
            ]
          },
          "metadata": {
            "needs_background": "light"
          }
        },
        {
          "output_type": "display_data",
          "data": {
            "image/png": "[encoded data removed]",
            "text/plain": [
              "<Figure size 432x360 with 1 Axes>"
            ]
          },
          "metadata": {
            "needs_background": "light"
          }
        }
      ]
    },
    {
      "cell_type": "markdown",
      "source": [
        "--Now looks like  normally distrubuted"
      ],
      "metadata": {
        "id": "zUAtRwD8f_ZI"
      }
    },
    {
      "cell_type": "code",
      "source": [
        "# Now to plot scatter plot with best fit line.\n",
        "for col in numerical_features:\n",
        "   fig = plt.figure(figsize=(6, 5))\n",
        "   ax = fig.gca()\n",
        "   feature = df[col]\n",
        "   label = df['Close']\n",
        "   correlation = feature.corr(label)\n",
        "   plt.scatter(x=feature, y=label)\n",
        "   plt.xlabel(col, fontsize=12)\n",
        "   plt.ylabel('Closing Price', fontsize=12)\n",
        "   ax.set_title(col + ' Vs. Close' + '         Correlation: ' + str(round(correlation,2)), fontsize=16)\n",
        "   z = np.polyfit(df[col], df['Close'], 1)\n",
        "   y_hat = np.poly1d(z)(df[col])\n",
        " \n",
        "   plt.plot(df[col], y_hat, \"r--\", lw=1)"
      ],
      "metadata": {
        "colab": {
          "base_uri": "https://localhost:8080/",
          "height": 1000
        },
        "id": "gFPJDDuYf7As",
        "outputId": "1e264c8d-15cc-4225-8f35-bfbe69aa7a9b"
      },
      "execution_count": 184,
      "outputs": [
        {
          "output_type": "display_data",
          "data": {
            "image/png": "[encoded data removed]",
            "text/plain": [
              "<Figure size 432x360 with 1 Axes>"
            ]
          },
          "metadata": {
            "needs_background": "light"
          }
        },
        {
          "output_type": "display_data",
          "data": {
            "image/png": "[encoded data removed]",
            "text/plain": [
              "<Figure size 432x360 with 1 Axes>"
            ]
          },
          "metadata": {
            "needs_background": "light"
          }
        },
        {
          "output_type": "display_data",
          "data": {
            "image/png": "[encoded data removed]",
            "text/plain": [
              "<Figure size 432x360 with 1 Axes>"
            ]
          },
          "metadata": {
            "needs_background": "light"
          }
        }
      ]
    },
    {
      "cell_type": "code",
      "source": [
        "#Lets find correlation with heatmap\n",
        "plt.figure(figsize=(8,5))\n",
        "correlation = df.corr()\n",
        "sns.heatmap(abs(correlation), annot=True, cmap='coolwarm')\n",
        "plt.title(\"Correlation Map\", fontsize=16)"
      ],
      "metadata": {
        "colab": {
          "base_uri": "https://localhost:8080/",
          "height": 356
        },
        "id": "vuvRWhFeG3bQ",
        "outputId": "79093a8c-2a2e-4042-a592-9d56e4bcd97b"
      },
      "execution_count": 185,
      "outputs": [
        {
          "output_type": "execute_result",
          "data": {
            "text/plain": [
              "Text(0.5, 1.0, 'Correlation Map')"
            ]
          },
          "metadata": {},
          "execution_count": 185
        },
        {
          "output_type": "display_data",
          "data": {
            "image/png": "[encoded data removed]",
            "text/plain": [
              "<Figure size 576x360 with 2 Axes>"
            ]
          },
          "metadata": {
            "needs_background": "light"
          }
        }
      ]
    },
    {
      "cell_type": "markdown",
      "source": [
        "*  There are very high correlation between independent variables which lead us to multicollinearity. High multicollinearity is not good for fitting model and prediction because a slight change in any independent variable will give very unpredictable results.\n",
        "\n",
        "*  To check multicollinearity and how much it is in our dataset, we have to calculate VIF(Variation Inflation Factor)\n",
        "\n",
        "*  so, we can decide which varible we should keep in our analysis and predicting model and which should be removed from the datasets."
      ],
      "metadata": {
        "id": "0Q5ZNBzYIxH_"
      }
    },
    {
      "cell_type": "code",
      "source": [
        "# VIF\n",
        "from statsmodels.stats.outliers_influence import variance_inflation_factor\n",
        "def calc_vif(df):\n",
        "  vif = pd.DataFrame()\n",
        "  vif['Variables'] = df.columns\n",
        "  vif['VIF'] = [variance_inflation_factor(df.values,i) for i in range(df.shape[1])]\n",
        "  return (vif)"
      ],
      "metadata": {
        "id": "v4I7etwwE9vW"
      },
      "execution_count": 186,
      "outputs": []
    },
    {
      "cell_type": "code",
      "source": [
        "calc_vif(df[[i for i in df.describe().columns if i not in ['Date','Close']]])"
      ],
      "metadata": {
        "colab": {
          "base_uri": "https://localhost:8080/",
          "height": 144
        },
        "id": "k2PedtyPFO9U",
        "outputId": "99dad028-9478-483a-f40d-3741b83fe8bd"
      },
      "execution_count": 187,
      "outputs": [
        {
          "output_type": "execute_result",
          "data": {
            "text/html": [
              "\n",
              "  <div id=\"df-939e0eae-afc8-448d-9c55-76972336f0d6\">\n",
              "    <div class=\"colab-df-container\">\n",
              "      <div>\n",
              "<style scoped>\n",
              "    .dataframe tbody tr th:only-of-type {\n",
              "        vertical-align: middle;\n",
              "    }\n",
              "\n",
              "    .dataframe tbody tr th {\n",
              "        vertical-align: top;\n",
              "    }\n",
              "\n",
              "    .dataframe thead th {\n",
              "        text-align: right;\n",
              "    }\n",
              "</style>\n",
              "<table border=\"1\" class=\"dataframe\">\n",
              "  <thead>\n",
              "    <tr style=\"text-align: right;\">\n",
              "      <th></th>\n",
              "      <th>Variables</th>\n",
              "      <th>VIF</th>\n",
              "    </tr>\n",
              "  </thead>\n",
              "  <tbody>\n",
              "    <tr>\n",
              "      <th>0</th>\n",
              "      <td>Open</td>\n",
              "      <td>175.185704</td>\n",
              "    </tr>\n",
              "    <tr>\n",
              "      <th>1</th>\n",
              "      <td>High</td>\n",
              "      <td>167.057523</td>\n",
              "    </tr>\n",
              "    <tr>\n",
              "      <th>2</th>\n",
              "      <td>Low</td>\n",
              "      <td>71.574137</td>\n",
              "    </tr>\n",
              "  </tbody>\n",
              "</table>\n",
              "</div>\n",
              "      <button class=\"colab-df-convert\" onclick=\"convertToInteractive('df-939e0eae-afc8-448d-9c55-76972336f0d6')\"\n",
              "              title=\"Convert this dataframe to an interactive table.\"\n",
              "              style=\"display:none;\">\n",
              "        \n",
              "  <svg xmlns=\"http://www.w3.org/2000/svg\" height=\"24px\"viewBox=\"0 0 24 24\"\n",
              "       width=\"24px\">\n",
              "    <path d=\"M0 0h24v24H0V0z\" fill=\"none\"/>\n",
              "    <path d=\"M18.56 5.44l.94 2.06.94-2.06 2.06-.94-2.06-.94-.94-2.06-.94 2.06-2.06.94zm-11 1L8.5 8.5l.94-2.06 2.06-.94-2.06-.94L8.5 2.5l-.94 2.06-2.06.94zm10 10l.94 2.06.94-2.06 2.06-.94-2.06-.94-.94-2.06-.94 2.06-2.06.94z\"/><path d=\"M17.41 7.96l-1.37-1.37c-.4-.4-.92-.59-1.43-.59-.52 0-1.04.2-1.43.59L10.3 9.45l-7.72 7.72c-.78.78-.78 2.05 0 2.83L4 21.41c.39.39.9.59 1.41.59.51 0 1.02-.2 1.41-.59l7.78-7.78 2.81-2.81c.8-.78.8-2.07 0-2.86zM5.41 20L4 18.59l7.72-7.72 1.47 1.35L5.41 20z\"/>\n",
              "  </svg>\n",
              "      </button>\n",
              "      \n",
              "  <style>\n",
              "    .colab-df-container {\n",
              "      display:flex;\n",
              "      flex-wrap:wrap;\n",
              "      gap: 12px;\n",
              "    }\n",
              "\n",
              "    .colab-df-convert {\n",
              "      background-color: #E8F0FE;\n",
              "      border: none;\n",
              "      border-radius: 50%;\n",
              "      cursor: pointer;\n",
              "      display: none;\n",
              "      fill: #1967D2;\n",
              "      height: 32px;\n",
              "      padding: 0 0 0 0;\n",
              "      width: 32px;\n",
              "    }\n",
              "\n",
              "    .colab-df-convert:hover {\n",
              "      background-color: #E2EBFA;\n",
              "      box-shadow: 0px 1px 2px rgba(60, 64, 67, 0.3), 0px 1px 3px 1px rgba(60, 64, 67, 0.15);\n",
              "      fill: #174EA6;\n",
              "    }\n",
              "\n",
              "    [theme=dark] .colab-df-convert {\n",
              "      background-color: #3B4455;\n",
              "      fill: #D2E3FC;\n",
              "    }\n",
              "\n",
              "    [theme=dark] .colab-df-convert:hover {\n",
              "      background-color: #434B5C;\n",
              "      box-shadow: 0px 1px 3px 1px rgba(0, 0, 0, 0.15);\n",
              "      filter: drop-shadow(0px 1px 2px rgba(0, 0, 0, 0.3));\n",
              "      fill: #FFFFFF;\n",
              "    }\n",
              "  </style>\n",
              "\n",
              "      <script>\n",
              "        const buttonEl =\n",
              "          document.querySelector('#df-939e0eae-afc8-448d-9c55-76972336f0d6 button.colab-df-convert');\n",
              "        buttonEl.style.display =\n",
              "          google.colab.kernel.accessAllowed ? 'block' : 'none';\n",
              "\n",
              "        async function convertToInteractive(key) {\n",
              "          const element = document.querySelector('#df-939e0eae-afc8-448d-9c55-76972336f0d6');\n",
              "          const dataTable =\n",
              "            await google.colab.kernel.invokeFunction('convertToInteractive',\n",
              "                                                     [key], {});\n",
              "          if (!dataTable) return;\n",
              "\n",
              "          const docLinkHtml = 'Like what you see? Visit the ' +\n",
              "            '<a target=\"_blank\" href=https://colab.research.google.com/notebooks/data_table.ipynb>data table notebook</a>'\n",
              "            + ' to learn more about interactive tables.';\n",
              "          element.innerHTML = '';\n",
              "          dataTable['output_type'] = 'display_data';\n",
              "          await google.colab.output.renderOutput(dataTable, element);\n",
              "          const docLink = document.createElement('div');\n",
              "          docLink.innerHTML = docLinkHtml;\n",
              "          element.appendChild(docLink);\n",
              "        }\n",
              "      </script>\n",
              "    </div>\n",
              "  </div>\n",
              "  "
            ],
            "text/plain": [
              "  Variables         VIF\n",
              "0      Open  175.185704\n",
              "1      High  167.057523\n",
              "2       Low   71.574137"
            ]
          },
          "metadata": {},
          "execution_count": 187
        }
      ]
    },
    {
      "cell_type": "markdown",
      "source": [
        "We have very high VIF in our dataset so, we have to drop one them which is least correlated with dependent variable"
      ],
      "metadata": {
        "id": "R_j-49ZAGB0s"
      }
    },
    {
      "cell_type": "code",
      "source": [
        "#heatmap for correlation\n",
        "plt.figure(figsize=(10,5))\n",
        "sns.heatmap(df[['Low','High','Open','Close']].corr(), annot = True, cmap='coolwarm')\n",
        "plt.show()"
      ],
      "metadata": {
        "colab": {
          "base_uri": "https://localhost:8080/",
          "height": 324
        },
        "id": "Vdw6bOHVGlOc",
        "outputId": "9b789d76-a85b-4b5a-aa49-de6e1f47cc91"
      },
      "execution_count": 188,
      "outputs": [
        {
          "output_type": "display_data",
          "data": {
            "image/png": "[encoded data removed]",
            "text/plain": [
              "<Figure size 720x360 with 2 Axes>"
            ]
          },
          "metadata": {
            "needs_background": "light"
          }
        }
      ]
    },
    {
      "cell_type": "markdown",
      "source": [
        "Now, we'll drop Open feature from the VIF matrix."
      ],
      "metadata": {
        "id": "USz14rT6GxD5"
      }
    },
    {
      "cell_type": "code",
      "source": [
        "calc_vif(df[[i for i in df.describe().columns if i not in ['Date','Close','Average','Open']]])"
      ],
      "metadata": {
        "colab": {
          "base_uri": "https://localhost:8080/",
          "height": 112
        },
        "id": "1dobP6sBG52I",
        "outputId": "54ca1906-dcbc-4237-aadd-0244fab44caf"
      },
      "execution_count": 189,
      "outputs": [
        {
          "output_type": "execute_result",
          "data": {
            "text/html": [
              "\n",
              "  <div id=\"df-fa14e407-d328-4651-982f-44cba973225e\">\n",
              "    <div class=\"colab-df-container\">\n",
              "      <div>\n",
              "<style scoped>\n",
              "    .dataframe tbody tr th:only-of-type {\n",
              "        vertical-align: middle;\n",
              "    }\n",
              "\n",
              "    .dataframe tbody tr th {\n",
              "        vertical-align: top;\n",
              "    }\n",
              "\n",
              "    .dataframe thead th {\n",
              "        text-align: right;\n",
              "    }\n",
              "</style>\n",
              "<table border=\"1\" class=\"dataframe\">\n",
              "  <thead>\n",
              "    <tr style=\"text-align: right;\">\n",
              "      <th></th>\n",
              "      <th>Variables</th>\n",
              "      <th>VIF</th>\n",
              "    </tr>\n",
              "  </thead>\n",
              "  <tbody>\n",
              "    <tr>\n",
              "      <th>0</th>\n",
              "      <td>High</td>\n",
              "      <td>62.598129</td>\n",
              "    </tr>\n",
              "    <tr>\n",
              "      <th>1</th>\n",
              "      <td>Low</td>\n",
              "      <td>62.598129</td>\n",
              "    </tr>\n",
              "  </tbody>\n",
              "</table>\n",
              "</div>\n",
              "      <button class=\"colab-df-convert\" onclick=\"convertToInteractive('df-fa14e407-d328-4651-982f-44cba973225e')\"\n",
              "              title=\"Convert this dataframe to an interactive table.\"\n",
              "              style=\"display:none;\">\n",
              "        \n",
              "  <svg xmlns=\"http://www.w3.org/2000/svg\" height=\"24px\"viewBox=\"0 0 24 24\"\n",
              "       width=\"24px\">\n",
              "    <path d=\"M0 0h24v24H0V0z\" fill=\"none\"/>\n",
              "    <path d=\"M18.56 5.44l.94 2.06.94-2.06 2.06-.94-2.06-.94-.94-2.06-.94 2.06-2.06.94zm-11 1L8.5 8.5l.94-2.06 2.06-.94-2.06-.94L8.5 2.5l-.94 2.06-2.06.94zm10 10l.94 2.06.94-2.06 2.06-.94-2.06-.94-.94-2.06-.94 2.06-2.06.94z\"/><path d=\"M17.41 7.96l-1.37-1.37c-.4-.4-.92-.59-1.43-.59-.52 0-1.04.2-1.43.59L10.3 9.45l-7.72 7.72c-.78.78-.78 2.05 0 2.83L4 21.41c.39.39.9.59 1.41.59.51 0 1.02-.2 1.41-.59l7.78-7.78 2.81-2.81c.8-.78.8-2.07 0-2.86zM5.41 20L4 18.59l7.72-7.72 1.47 1.35L5.41 20z\"/>\n",
              "  </svg>\n",
              "      </button>\n",
              "      \n",
              "  <style>\n",
              "    .colab-df-container {\n",
              "      display:flex;\n",
              "      flex-wrap:wrap;\n",
              "      gap: 12px;\n",
              "    }\n",
              "\n",
              "    .colab-df-convert {\n",
              "      background-color: #E8F0FE;\n",
              "      border: none;\n",
              "      border-radius: 50%;\n",
              "      cursor: pointer;\n",
              "      display: none;\n",
              "      fill: #1967D2;\n",
              "      height: 32px;\n",
              "      padding: 0 0 0 0;\n",
              "      width: 32px;\n",
              "    }\n",
              "\n",
              "    .colab-df-convert:hover {\n",
              "      background-color: #E2EBFA;\n",
              "      box-shadow: 0px 1px 2px rgba(60, 64, 67, 0.3), 0px 1px 3px 1px rgba(60, 64, 67, 0.15);\n",
              "      fill: #174EA6;\n",
              "    }\n",
              "\n",
              "    [theme=dark] .colab-df-convert {\n",
              "      background-color: #3B4455;\n",
              "      fill: #D2E3FC;\n",
              "    }\n",
              "\n",
              "    [theme=dark] .colab-df-convert:hover {\n",
              "      background-color: #434B5C;\n",
              "      box-shadow: 0px 1px 3px 1px rgba(0, 0, 0, 0.15);\n",
              "      filter: drop-shadow(0px 1px 2px rgba(0, 0, 0, 0.3));\n",
              "      fill: #FFFFFF;\n",
              "    }\n",
              "  </style>\n",
              "\n",
              "      <script>\n",
              "        const buttonEl =\n",
              "          document.querySelector('#df-fa14e407-d328-4651-982f-44cba973225e button.colab-df-convert');\n",
              "        buttonEl.style.display =\n",
              "          google.colab.kernel.accessAllowed ? 'block' : 'none';\n",
              "\n",
              "        async function convertToInteractive(key) {\n",
              "          const element = document.querySelector('#df-fa14e407-d328-4651-982f-44cba973225e');\n",
              "          const dataTable =\n",
              "            await google.colab.kernel.invokeFunction('convertToInteractive',\n",
              "                                                     [key], {});\n",
              "          if (!dataTable) return;\n",
              "\n",
              "          const docLinkHtml = 'Like what you see? Visit the ' +\n",
              "            '<a target=\"_blank\" href=https://colab.research.google.com/notebooks/data_table.ipynb>data table notebook</a>'\n",
              "            + ' to learn more about interactive tables.';\n",
              "          element.innerHTML = '';\n",
              "          dataTable['output_type'] = 'display_data';\n",
              "          await google.colab.output.renderOutput(dataTable, element);\n",
              "          const docLink = document.createElement('div');\n",
              "          docLink.innerHTML = docLinkHtml;\n",
              "          element.appendChild(docLink);\n",
              "        }\n",
              "      </script>\n",
              "    </div>\n",
              "  </div>\n",
              "  "
            ],
            "text/plain": [
              "  Variables        VIF\n",
              "0      High  62.598129\n",
              "1       Low  62.598129"
            ]
          },
          "metadata": {},
          "execution_count": 189
        }
      ]
    },
    {
      "cell_type": "code",
      "source": [
        "#heatmap for correlation\n",
        "plt.figure(figsize=(10,5))\n",
        "sns.heatmap(df[['High','Low','Close']].corr(), annot = True, cmap='coolwarm')\n",
        "plt.show()"
      ],
      "metadata": {
        "colab": {
          "base_uri": "https://localhost:8080/",
          "height": 324
        },
        "id": "4rE45mW6HYZw",
        "outputId": "5b4a2382-9d36-411a-e19a-6bf50beef1d2"
      },
      "execution_count": 190,
      "outputs": [
        {
          "output_type": "display_data",
          "data": {
            "image/png": "[encoded data removed]",
            "text/plain": [
              "<Figure size 720x360 with 2 Axes>"
            ]
          },
          "metadata": {
            "needs_background": "light"
          }
        }
      ]
    },
    {
      "cell_type": "markdown",
      "source": [
        "Our final dropping variable will be **High** feature because it has less correlation with dependent variable in comparison with dependet variable(Close).\n",
        "\n",
        "We've dropped 3 features from our dataset it can effect our model efficiency but neglecting high VIF is far more dangerous than dropping features.\n",
        " \n",
        "So, we preferred to drop the features and move forward with the **Low** Variable."
      ],
      "metadata": {
        "id": "djsiAz_NHf-w"
      }
    },
    {
      "cell_type": "markdown",
      "source": [
        "# **Data transformation**"
      ],
      "metadata": {
        "id": "InkP0DjuJiFY"
      }
    },
    {
      "cell_type": "markdown",
      "source": [
        "**Splitting data**"
      ],
      "metadata": {
        "id": "r4PYAl9nJ3EE"
      }
    },
    {
      "cell_type": "markdown",
      "source": [
        "X = Independent variable\n"
      ],
      "metadata": {
        "id": "zUseOlb-J_Qr"
      }
    },
    {
      "cell_type": "markdown",
      "source": [
        "Y = Dependent variable"
      ],
      "metadata": {
        "id": "zrMpqyVKJ_ci"
      }
    },
    {
      "cell_type": "code",
      "source": [
        "# Splitting our data into Dependent and Independent Variables\n",
        "X = df.drop(columns=['Close','Date'])\n",
        "y = df['Close']"
      ],
      "metadata": {
        "id": "ahy9IVdEHfDa"
      },
      "execution_count": 191,
      "outputs": []
    },
    {
      "cell_type": "markdown",
      "source": [
        "**Normalization**"
      ],
      "metadata": {
        "id": "Orfj0V4nK_cR"
      }
    },
    {
      "cell_type": "markdown",
      "source": [
        "## data must be normally distributed before apply normalization..\n",
        "\n",
        "Normalization is one of the feature scaling techniques. We particularly apply normalization when the data is skewed on the either axis i.e. when the data does not follow the gaussian distribution.In normalization, we convert the data features of different scales to a common scale which further makes it easy for the data to be processed for modeling. Thus, all the data features(variables) tend to have a similar impact on the modeling portion."
      ],
      "metadata": {
        "id": "cYXW1xg7mRcS"
      }
    },
    {
      "cell_type": "code",
      "source": [
        "# Data transformation\n",
        "from scipy.stats import zscore\n",
        "X = X.apply(zscore)\n",
        "y = np.log10(y)"
      ],
      "metadata": {
        "id": "KbKEdBwCKust"
      },
      "execution_count": 192,
      "outputs": []
    },
    {
      "cell_type": "markdown",
      "source": [
        "**splitting train test data with 80-20**"
      ],
      "metadata": {
        "id": "mNQZ_0z6scjI"
      }
    },
    {
      "cell_type": "code",
      "source": [
        "# Spliting Data into Testing and Training Datasets\n",
        "X_train,X_test,y_train,y_test = train_test_split(X,y,test_size=0.20,random_state = 1)"
      ],
      "metadata": {
        "id": "uUxaGz4IsWLk"
      },
      "execution_count": 193,
      "outputs": []
    },
    {
      "cell_type": "code",
      "source": [
        "#shape of training dataset.\n",
        "X_train.shape"
      ],
      "metadata": {
        "colab": {
          "base_uri": "https://localhost:8080/"
        },
        "id": "WbLuSurOtN0A",
        "outputId": "0ba4bd71-8cf4-4e8f-d9d8-746fcc7532e2"
      },
      "execution_count": 194,
      "outputs": [
        {
          "output_type": "execute_result",
          "data": {
            "text/plain": [
              "(148, 3)"
            ]
          },
          "metadata": {},
          "execution_count": 194
        }
      ]
    },
    {
      "cell_type": "code",
      "source": [
        "#shape of testing dataset.\n",
        "X_test.shape"
      ],
      "metadata": {
        "colab": {
          "base_uri": "https://localhost:8080/"
        },
        "id": "JxhCVAartaXd",
        "outputId": "ea0b1ab2-eff9-44da-9867-285acd83b14e"
      },
      "execution_count": 195,
      "outputs": [
        {
          "output_type": "execute_result",
          "data": {
            "text/plain": [
              "(37, 3)"
            ]
          },
          "metadata": {},
          "execution_count": 195
        }
      ]
    },
    {
      "cell_type": "markdown",
      "source": [
        "# **1) Linear Regression**"
      ],
      "metadata": {
        "id": "OTtwjSeAtj-U"
      }
    },
    {
      "cell_type": "code",
      "source": [
        "#fit data into Linear Regression\n",
        "linear_reg = LinearRegression()\n",
        "linear_reg_model = linear_reg.fit(X_train,y_train)"
      ],
      "metadata": {
        "id": "4kV5vbWEtfMR"
      },
      "execution_count": 196,
      "outputs": []
    },
    {
      "cell_type": "code",
      "source": [
        "#train accuracy of linear regression model\n",
        "round(linear_reg.score(X_train,y_train), 4)"
      ],
      "metadata": {
        "colab": {
          "base_uri": "https://localhost:8080/"
        },
        "id": "L61XLnwutxIQ",
        "outputId": "dd7fe12f-ea73-4edf-91d1-6a3c18a92bbc"
      },
      "execution_count": 197,
      "outputs": [
        {
          "output_type": "execute_result",
          "data": {
            "text/plain": [
              "0.8147"
            ]
          },
          "metadata": {},
          "execution_count": 197
        }
      ]
    },
    {
      "cell_type": "code",
      "source": [
        "#test accuracy of linear regression model\n",
        "round(linear_reg.score(X_test,y_test), 4)"
      ],
      "metadata": {
        "colab": {
          "base_uri": "https://localhost:8080/"
        },
        "id": "GgWrkC_pt7l4",
        "outputId": "892932ee-b67b-4ef6-b762-ad5290659ee9"
      },
      "execution_count": 198,
      "outputs": [
        {
          "output_type": "execute_result",
          "data": {
            "text/plain": [
              "0.8226"
            ]
          },
          "metadata": {},
          "execution_count": 198
        }
      ]
    },
    {
      "cell_type": "code",
      "source": [
        "#prediction of test data.\n",
        "y_pred = linear_reg.predict(X_test)\n",
        "y_pred"
      ],
      "metadata": {
        "colab": {
          "base_uri": "https://localhost:8080/"
        },
        "id": "NCo2aoBYuEGr",
        "outputId": "f2e04d0f-065c-4c12-a43c-d505d5a95fc2"
      },
      "execution_count": 199,
      "outputs": [
        {
          "output_type": "execute_result",
          "data": {
            "text/plain": [
              "array([1.51738682, 1.53211837, 1.63519027, 1.47539354, 2.01471458,\n",
              "       2.74366588, 1.62601875, 1.51851685, 1.52352095, 1.62092587,\n",
              "       2.07716025, 1.61560053, 1.47290774, 2.63685207, 1.70384859,\n",
              "       1.61032504, 1.52501328, 1.95399032, 1.81967493, 1.76423173,\n",
              "       1.53162271, 1.480381  , 1.83883617, 1.6394682 , 2.05986731,\n",
              "       1.49003242, 1.4767562 , 1.61402383, 1.53535964, 1.66894676,\n",
              "       2.4177132 , 2.75914846, 1.68261819, 2.34869197, 1.78260049,\n",
              "       1.62415017, 2.34100799])"
            ]
          },
          "metadata": {},
          "execution_count": 199
        }
      ]
    },
    {
      "cell_type": "code",
      "source": [
        "np.array(y_test)"
      ],
      "metadata": {
        "colab": {
          "base_uri": "https://localhost:8080/"
        },
        "outputId": "f7854ad0-b553-4aae-ffb4-505140396e03",
        "id": "DUenzeAoI7H1"
      },
      "execution_count": 200,
      "outputs": [
        {
          "output_type": "execute_result",
          "data": {
            "text/plain": [
              "array([1.4034637 , 1.40823997, 1.72090317, 1.08849047, 2.17011497,\n",
              "       2.53096768, 1.68708284, 1.44638181, 1.3588862 , 1.69757803,\n",
              "       2.21301278, 1.70731463, 1.12742878, 2.49837948, 1.84553212,\n",
              "       1.69390274, 1.4724639 , 2.17429246, 2.05648559, 1.94517305,\n",
              "       1.50419892, 1.19368103, 2.0342674 , 1.81947813, 2.22520587,\n",
              "       1.2662317 , 1.08778142, 1.69731654, 1.45682135, 1.81967552,\n",
              "       2.43941165, 2.53932706, 1.7895102 , 2.36973522, 2.00121433,\n",
              "       1.72762258, 2.38639194])"
            ]
          },
          "metadata": {},
          "execution_count": 200
        }
      ]
    },
    {
      "cell_type": "code",
      "source": [
        "#Creating DataFrames of test and train dataset\n",
        "train_df = pd.DataFrame(X_train,y_train)\n",
        "test_df = pd.DataFrame(10**y_test)\n",
        "test_df.rename(columns = {'Close':'Actual Closing Price'},inplace = True)"
      ],
      "metadata": {
        "id": "CaXJo4YdIiv1"
      },
      "execution_count": 201,
      "outputs": []
    },
    {
      "cell_type": "code",
      "source": [
        "test_df[' Predicted Closing Price'] = 10**y_pred\n",
        "test_df.head()"
      ],
      "metadata": {
        "colab": {
          "base_uri": "https://localhost:8080/",
          "height": 206
        },
        "id": "MlhaXPVwIrIR",
        "outputId": "74382266-31d6-4ab9-e4a8-70c3e6da9af3"
      },
      "execution_count": 202,
      "outputs": [
        {
          "output_type": "execute_result",
          "data": {
            "text/html": [
              "\n",
              "  <div id=\"df-822daeca-2fb6-40c1-88d7-4163dddaad50\">\n",
              "    <div class=\"colab-df-container\">\n",
              "      <div>\n",
              "<style scoped>\n",
              "    .dataframe tbody tr th:only-of-type {\n",
              "        vertical-align: middle;\n",
              "    }\n",
              "\n",
              "    .dataframe tbody tr th {\n",
              "        vertical-align: top;\n",
              "    }\n",
              "\n",
              "    .dataframe thead th {\n",
              "        text-align: right;\n",
              "    }\n",
              "</style>\n",
              "<table border=\"1\" class=\"dataframe\">\n",
              "  <thead>\n",
              "    <tr style=\"text-align: right;\">\n",
              "      <th></th>\n",
              "      <th>Actual Closing Price</th>\n",
              "      <th>Predicted Closing Price</th>\n",
              "    </tr>\n",
              "  </thead>\n",
              "  <tbody>\n",
              "    <tr>\n",
              "      <th>16</th>\n",
              "      <td>25.32</td>\n",
              "      <td>32.914467</td>\n",
              "    </tr>\n",
              "    <tr>\n",
              "      <th>179</th>\n",
              "      <td>25.60</td>\n",
              "      <td>34.050099</td>\n",
              "    </tr>\n",
              "    <tr>\n",
              "      <th>66</th>\n",
              "      <td>52.59</td>\n",
              "      <td>43.170817</td>\n",
              "    </tr>\n",
              "    <tr>\n",
              "      <th>40</th>\n",
              "      <td>12.26</td>\n",
              "      <td>29.880891</td>\n",
              "    </tr>\n",
              "    <tr>\n",
              "      <th>166</th>\n",
              "      <td>147.95</td>\n",
              "      <td>103.446210</td>\n",
              "    </tr>\n",
              "  </tbody>\n",
              "</table>\n",
              "</div>\n",
              "      <button class=\"colab-df-convert\" onclick=\"convertToInteractive('df-822daeca-2fb6-40c1-88d7-4163dddaad50')\"\n",
              "              title=\"Convert this dataframe to an interactive table.\"\n",
              "              style=\"display:none;\">\n",
              "        \n",
              "  <svg xmlns=\"http://www.w3.org/2000/svg\" height=\"24px\"viewBox=\"0 0 24 24\"\n",
              "       width=\"24px\">\n",
              "    <path d=\"M0 0h24v24H0V0z\" fill=\"none\"/>\n",
              "    <path d=\"M18.56 5.44l.94 2.06.94-2.06 2.06-.94-2.06-.94-.94-2.06-.94 2.06-2.06.94zm-11 1L8.5 8.5l.94-2.06 2.06-.94-2.06-.94L8.5 2.5l-.94 2.06-2.06.94zm10 10l.94 2.06.94-2.06 2.06-.94-2.06-.94-.94-2.06-.94 2.06-2.06.94z\"/><path d=\"M17.41 7.96l-1.37-1.37c-.4-.4-.92-.59-1.43-.59-.52 0-1.04.2-1.43.59L10.3 9.45l-7.72 7.72c-.78.78-.78 2.05 0 2.83L4 21.41c.39.39.9.59 1.41.59.51 0 1.02-.2 1.41-.59l7.78-7.78 2.81-2.81c.8-.78.8-2.07 0-2.86zM5.41 20L4 18.59l7.72-7.72 1.47 1.35L5.41 20z\"/>\n",
              "  </svg>\n",
              "      </button>\n",
              "      \n",
              "  <style>\n",
              "    .colab-df-container {\n",
              "      display:flex;\n",
              "      flex-wrap:wrap;\n",
              "      gap: 12px;\n",
              "    }\n",
              "\n",
              "    .colab-df-convert {\n",
              "      background-color: #E8F0FE;\n",
              "      border: none;\n",
              "      border-radius: 50%;\n",
              "      cursor: pointer;\n",
              "      display: none;\n",
              "      fill: #1967D2;\n",
              "      height: 32px;\n",
              "      padding: 0 0 0 0;\n",
              "      width: 32px;\n",
              "    }\n",
              "\n",
              "    .colab-df-convert:hover {\n",
              "      background-color: #E2EBFA;\n",
              "      box-shadow: 0px 1px 2px rgba(60, 64, 67, 0.3), 0px 1px 3px 1px rgba(60, 64, 67, 0.15);\n",
              "      fill: #174EA6;\n",
              "    }\n",
              "\n",
              "    [theme=dark] .colab-df-convert {\n",
              "      background-color: #3B4455;\n",
              "      fill: #D2E3FC;\n",
              "    }\n",
              "\n",
              "    [theme=dark] .colab-df-convert:hover {\n",
              "      background-color: #434B5C;\n",
              "      box-shadow: 0px 1px 3px 1px rgba(0, 0, 0, 0.15);\n",
              "      filter: drop-shadow(0px 1px 2px rgba(0, 0, 0, 0.3));\n",
              "      fill: #FFFFFF;\n",
              "    }\n",
              "  </style>\n",
              "\n",
              "      <script>\n",
              "        const buttonEl =\n",
              "          document.querySelector('#df-822daeca-2fb6-40c1-88d7-4163dddaad50 button.colab-df-convert');\n",
              "        buttonEl.style.display =\n",
              "          google.colab.kernel.accessAllowed ? 'block' : 'none';\n",
              "\n",
              "        async function convertToInteractive(key) {\n",
              "          const element = document.querySelector('#df-822daeca-2fb6-40c1-88d7-4163dddaad50');\n",
              "          const dataTable =\n",
              "            await google.colab.kernel.invokeFunction('convertToInteractive',\n",
              "                                                     [key], {});\n",
              "          if (!dataTable) return;\n",
              "\n",
              "          const docLinkHtml = 'Like what you see? Visit the ' +\n",
              "            '<a target=\"_blank\" href=https://colab.research.google.com/notebooks/data_table.ipynb>data table notebook</a>'\n",
              "            + ' to learn more about interactive tables.';\n",
              "          element.innerHTML = '';\n",
              "          dataTable['output_type'] = 'display_data';\n",
              "          await google.colab.output.renderOutput(dataTable, element);\n",
              "          const docLink = document.createElement('div');\n",
              "          docLink.innerHTML = docLinkHtml;\n",
              "          element.appendChild(docLink);\n",
              "        }\n",
              "      </script>\n",
              "    </div>\n",
              "  </div>\n",
              "  "
            ],
            "text/plain": [
              "     Actual Closing Price   Predicted Closing Price\n",
              "16                  25.32                 32.914467\n",
              "179                 25.60                 34.050099\n",
              "66                  52.59                 43.170817\n",
              "40                  12.26                 29.880891\n",
              "166                147.95                103.446210"
            ]
          },
          "metadata": {},
          "execution_count": 202
        }
      ]
    },
    {
      "cell_type": "code",
      "source": [
        "np.array(y_test)"
      ],
      "metadata": {
        "colab": {
          "base_uri": "https://localhost:8080/"
        },
        "id": "3DigiEXku1v_",
        "outputId": "9fd86cc0-dfa7-420f-dd49-4fef8512ac1b"
      },
      "execution_count": 203,
      "outputs": [
        {
          "output_type": "execute_result",
          "data": {
            "text/plain": [
              "array([1.4034637 , 1.40823997, 1.72090317, 1.08849047, 2.17011497,\n",
              "       2.53096768, 1.68708284, 1.44638181, 1.3588862 , 1.69757803,\n",
              "       2.21301278, 1.70731463, 1.12742878, 2.49837948, 1.84553212,\n",
              "       1.69390274, 1.4724639 , 2.17429246, 2.05648559, 1.94517305,\n",
              "       1.50419892, 1.19368103, 2.0342674 , 1.81947813, 2.22520587,\n",
              "       1.2662317 , 1.08778142, 1.69731654, 1.45682135, 1.81967552,\n",
              "       2.43941165, 2.53932706, 1.7895102 , 2.36973522, 2.00121433,\n",
              "       1.72762258, 2.38639194])"
            ]
          },
          "metadata": {},
          "execution_count": 203
        }
      ]
    },
    {
      "cell_type": "markdown",
      "source": [
        "-Time to know about metrics"
      ],
      "metadata": {
        "id": "qy_EwOzMvudy"
      }
    },
    {
      "cell_type": "markdown",
      "source": [
        "**Evaluation Metrics of Linear Regression:**"
      ],
      "metadata": {
        "id": "zG5vf6Adv4_S"
      }
    },
    {
      "cell_type": "code",
      "source": [
        "# Test Performance of linear regression model\n",
        "print(\"MSE :\",round(mean_squared_error(y_test, y_pred), 4))\n",
        "print(\"RMSE :\",round(math.sqrt(mean_squared_error(y_test, y_pred)),4))\n",
        "print(\"MAE :\",round(mean_absolute_error(y_test, y_pred),4))\n",
        "print(\"MAPE :\",round(mean_absolute_percentage_error(y_test, y_pred),4))\n",
        "print(\"R2 :\",round(r2_score(y_test, y_pred), 4))\n"
      ],
      "metadata": {
        "colab": {
          "base_uri": "https://localhost:8080/"
        },
        "id": "husxEfKVu-1W",
        "outputId": "09b5bb66-b3d6-4194-b34c-da16d25943a0"
      },
      "execution_count": 204,
      "outputs": [
        {
          "output_type": "stream",
          "name": "stdout",
          "text": [
            "MSE : 0.0316\n",
            "RMSE : 0.1777\n",
            "MAE : 0.1513\n",
            "MAPE : 0.0954\n",
            "R2 : 0.8226\n"
          ]
        }
      ]
    },
    {
      "cell_type": "markdown",
      "source": [
        "**Linear Regression: Actual Vs. Predicted**"
      ],
      "metadata": {
        "id": "V0mZgsKtxEMB"
      }
    },
    {
      "cell_type": "markdown",
      "source": [
        "--Lets know actual and model predicted curve"
      ],
      "metadata": {
        "id": "Dkwkvf9jxHm_"
      }
    },
    {
      "cell_type": "code",
      "source": [
        "# Actual Price vs. Predicted Price for Linear Regression Plot\n",
        "plt.figure(figsize=(10,5))\n",
        "plt.plot(10**(np.array(y_test)))\n",
        "plt.plot(10**(y_pred))\n",
        "plt.suptitle('Actual Vs. Predicted Close Price: Linear Regression', fontsize=16)\n",
        "plt.legend(['Actual','Predicted'], fontsize=12)\n",
        "plt.xlabel('No of Test Data', fontsize=12)\n",
        "plt.ylabel('Closing Price', fontsize=12)\n",
        "plt.grid()"
      ],
      "metadata": {
        "colab": {
          "base_uri": "https://localhost:8080/",
          "height": 373
        },
        "id": "ClbHMZg-xlxF",
        "outputId": "11d482cc-6264-4ae9-837e-89d63597274d"
      },
      "execution_count": 205,
      "outputs": [
        {
          "output_type": "display_data",
          "data": {
            "image/png": "[encoded data removed]",
            "text/plain": [
              "<Figure size 720x360 with 1 Axes>"
            ]
          },
          "metadata": {
            "needs_background": "light"
          }
        }
      ]
    },
    {
      "cell_type": "markdown",
      "source": [
        "There is much value difference seen spikes of price"
      ],
      "metadata": {
        "id": "YNmHSmrcyKYq"
      }
    },
    {
      "cell_type": "markdown",
      "source": [
        "# **2) Lasso Regression**"
      ],
      "metadata": {
        "id": "4BiNYylLyh0r"
      }
    },
    {
      "cell_type": "code",
      "source": [
        "#fit data into Lasso Regression\n",
        "from sklearn.linear_model import Lasso\n",
        "\n",
        "lasso_reg = Lasso(alpha=0.1,max_iter=3000)  #will keep alpha=0.1 and max iteration upto 3000\n",
        "lasso_reg_model = lasso_reg.fit(X_train,y_train)"
      ],
      "metadata": {
        "id": "puvhBLqQx0w8"
      },
      "execution_count": 206,
      "outputs": []
    },
    {
      "cell_type": "code",
      "source": [
        "#accuracy of lasso regression model\n",
        "round(lasso_reg.score(X_train,y_train),4)"
      ],
      "metadata": {
        "colab": {
          "base_uri": "https://localhost:8080/"
        },
        "id": "cnkn_FfZzaFj",
        "outputId": "300c8e76-2f41-4bf4-b314-f55c6df4d228"
      },
      "execution_count": 207,
      "outputs": [
        {
          "output_type": "execute_result",
          "data": {
            "text/plain": [
              "0.7596"
            ]
          },
          "metadata": {},
          "execution_count": 207
        }
      ]
    },
    {
      "cell_type": "markdown",
      "source": [
        "-it looks less accuracy than linear regression"
      ],
      "metadata": {
        "id": "HUMrWncTzhuU"
      }
    },
    {
      "cell_type": "code",
      "source": [
        "#prediction of test data.\n",
        "y_pred_lasso = lasso_reg.predict(X_test)\n"
      ],
      "metadata": {
        "id": "P4YE2v2Hze1u"
      },
      "execution_count": 208,
      "outputs": []
    },
    {
      "cell_type": "code",
      "source": [
        "y_pred_lasso"
      ],
      "metadata": {
        "colab": {
          "base_uri": "https://localhost:8080/"
        },
        "id": "D0tbk8pnzxO1",
        "outputId": "15f68271-9ae0-444a-e01e-dd26f5edd66d"
      },
      "execution_count": 209,
      "outputs": [
        {
          "output_type": "execute_result",
          "data": {
            "text/plain": [
              "array([1.59885328, 1.60997773, 1.68949351, 1.56874001, 1.97344962,\n",
              "       2.50656093, 1.68566448, 1.59981089, 1.60579373, 1.67686268,\n",
              "       2.01562595, 1.67079926, 1.56599398, 2.42326589, 1.73700316,\n",
              "       1.66886904, 1.60484921, 1.92532022, 1.82059101, 1.78055609,\n",
              "       1.61048878, 1.57288435, 1.83725499, 1.68838669, 1.99972092,\n",
              "       1.57880718, 1.56982374, 1.66984062, 1.61279255, 1.71366385,\n",
              "       2.26101503, 2.52324602, 1.72444246, 2.22095436, 1.79381669,\n",
              "       1.67767545, 2.20353159])"
            ]
          },
          "metadata": {},
          "execution_count": 209
        }
      ]
    },
    {
      "cell_type": "code",
      "source": [
        "np.array(y_test)"
      ],
      "metadata": {
        "colab": {
          "base_uri": "https://localhost:8080/"
        },
        "id": "cAwTfqLgzzoE",
        "outputId": "6a7a27d4-3006-41ad-b805-8ef78b3fcf99"
      },
      "execution_count": 210,
      "outputs": [
        {
          "output_type": "execute_result",
          "data": {
            "text/plain": [
              "array([1.4034637 , 1.40823997, 1.72090317, 1.08849047, 2.17011497,\n",
              "       2.53096768, 1.68708284, 1.44638181, 1.3588862 , 1.69757803,\n",
              "       2.21301278, 1.70731463, 1.12742878, 2.49837948, 1.84553212,\n",
              "       1.69390274, 1.4724639 , 2.17429246, 2.05648559, 1.94517305,\n",
              "       1.50419892, 1.19368103, 2.0342674 , 1.81947813, 2.22520587,\n",
              "       1.2662317 , 1.08778142, 1.69731654, 1.45682135, 1.81967552,\n",
              "       2.43941165, 2.53932706, 1.7895102 , 2.36973522, 2.00121433,\n",
              "       1.72762258, 2.38639194])"
            ]
          },
          "metadata": {},
          "execution_count": 210
        }
      ]
    },
    {
      "cell_type": "markdown",
      "source": [
        "**Evaluation Metrics of Lasso Regression:**"
      ],
      "metadata": {
        "id": "_GyUI9ou0KCT"
      }
    },
    {
      "cell_type": "code",
      "source": [
        "# Test Performance of lasso regression model\n",
        "print(\"MSE :\",round(mean_squared_error(y_test, y_pred_lasso), 4))\n",
        "print(\"RMSE :\",round(math.sqrt(mean_squared_error(y_test, y_pred_lasso)),4))\n",
        "print(\"MAE :\",round(mean_absolute_error(y_test, y_pred_lasso),4))\n",
        "print(\"MAPE :\",round(mean_absolute_percentage_error(y_test, y_pred_lasso),4))\n",
        "print(\"R2 :\",round(r2_score(y_test, y_pred_lasso), 4))"
      ],
      "metadata": {
        "colab": {
          "base_uri": "https://localhost:8080/"
        },
        "id": "wuLW7Lbcz2GF",
        "outputId": "faa0712e-7079-417b-a5dc-eaed786b4bea"
      },
      "execution_count": 211,
      "outputs": [
        {
          "output_type": "stream",
          "name": "stdout",
          "text": [
            "MSE : 0.0436\n",
            "RMSE : 0.2088\n",
            "MAE : 0.1672\n",
            "MAPE : 0.1099\n",
            "R2 : 0.755\n"
          ]
        }
      ]
    },
    {
      "cell_type": "markdown",
      "source": [
        "**Lasso Regression: Actual Vs. Predicted**"
      ],
      "metadata": {
        "id": "Wry2RN600lYu"
      }
    },
    {
      "cell_type": "code",
      "source": [
        "# Actual Price vs. Predicted Price for Lasso Regression Plotting\n",
        "plt.figure(figsize=(10,5))\n",
        "plt.plot(10**(np.array(y_test)))\n",
        "plt.plot(10**(y_pred_lasso))\n",
        "plt.suptitle('Actual Vs. Predicted Close Price: Lasso Regression', fontsize=16)\n",
        "plt.legend(['Actual','Predicted'], fontsize=12)\n",
        "plt.xlabel('No of Test Data', fontsize=12)\n",
        "plt.ylabel('Closing Price', fontsize=12)\n",
        "plt.grid()"
      ],
      "metadata": {
        "colab": {
          "base_uri": "https://localhost:8080/",
          "height": 373
        },
        "id": "BwS7EyZZ0c_J",
        "outputId": "f355beb3-7da4-474e-da75-f3354f0f5deb"
      },
      "execution_count": 212,
      "outputs": [
        {
          "output_type": "display_data",
          "data": {
            "image/png": "[encoded data removed]",
            "text/plain": [
              "<Figure size 720x360 with 1 Axes>"
            ]
          },
          "metadata": {
            "needs_background": "light"
          }
        }
      ]
    },
    {
      "cell_type": "markdown",
      "source": [
        "As we see spike get accurately predicted in lasso but flat prices predication varies much"
      ],
      "metadata": {
        "id": "vM4TKYu5074M"
      }
    },
    {
      "cell_type": "markdown",
      "source": [
        "# **Cross Validation on Lasso Regression**"
      ],
      "metadata": {
        "id": "hxe_mylv1MJa"
      }
    },
    {
      "cell_type": "code",
      "source": [
        "#importing GridSearchCV\n",
        "from sklearn.model_selection import GridSearchCV"
      ],
      "metadata": {
        "id": "mGA4CPE407S3"
      },
      "execution_count": 213,
      "outputs": []
    },
    {
      "cell_type": "code",
      "source": [
        "# Hyper-Parameter Tuning for Lasso Regression\n",
        "\n",
        "lasso_cv = Lasso()\n",
        "parameters = {'alpha':[1e-15,1e-13,1e-10,1e-8,1e-5,1e-4,1e-3,1e-2,1e-1,1,5,10,20,30,40,45,50,55,60,100]}\n",
        "lasso_model_cv = GridSearchCV(lasso_cv, parameters,scoring = 'neg_mean_squared_error', cv = 3, return_train_score=True)"
      ],
      "metadata": {
        "id": "g1l85_Aa04Af"
      },
      "execution_count": 214,
      "outputs": []
    },
    {
      "cell_type": "code",
      "source": [
        "lasso_model_cv.fit(X_train,y_train)"
      ],
      "metadata": {
        "colab": {
          "base_uri": "https://localhost:8080/"
        },
        "id": "YjN8V5281ggK",
        "outputId": "93f47538-5264-47b1-fe57-521902d76327"
      },
      "execution_count": 215,
      "outputs": [
        {
          "output_type": "execute_result",
          "data": {
            "text/plain": [
              "GridSearchCV(cv=3, estimator=Lasso(),\n",
              "             param_grid={'alpha': [1e-15, 1e-13, 1e-10, 1e-08, 1e-05, 0.0001,\n",
              "                                   0.001, 0.01, 0.1, 1, 5, 10, 20, 30, 40, 45,\n",
              "                                   50, 55, 60, 100]},\n",
              "             return_train_score=True, scoring='neg_mean_squared_error')"
            ]
          },
          "metadata": {},
          "execution_count": 215
        }
      ]
    },
    {
      "cell_type": "code",
      "source": [
        "print(\"The best fit alpha value is found out to be :\" ,round(lasso_model_cv.best_params_['alpha'], 4))\n",
        "print(\"The negative mean squared error for is: \", round(lasso_model_cv.best_score_,4))"
      ],
      "metadata": {
        "colab": {
          "base_uri": "https://localhost:8080/"
        },
        "id": "I5mPl2HZ10-B",
        "outputId": "9e3a5917-9458-4003-e037-1bc1750e86e7"
      },
      "execution_count": 216,
      "outputs": [
        {
          "output_type": "stream",
          "name": "stdout",
          "text": [
            "The best fit alpha value is found out to be : 0.01\n",
            "The negative mean squared error for is:  -0.0352\n"
          ]
        }
      ]
    },
    {
      "cell_type": "code",
      "source": [
        "#prediction of test data.\n",
        "y_pred_lasso_cv = lasso_model_cv.predict(X_test)"
      ],
      "metadata": {
        "id": "RxARr3L22DLh"
      },
      "execution_count": 217,
      "outputs": []
    },
    {
      "cell_type": "code",
      "source": [
        "y_pred_lasso_cv"
      ],
      "metadata": {
        "colab": {
          "base_uri": "https://localhost:8080/"
        },
        "id": "GOTnbvbH2dSg",
        "outputId": "c18163dd-5223-419d-b367-878b6d931c20"
      },
      "execution_count": 218,
      "outputs": [
        {
          "output_type": "execute_result",
          "data": {
            "text/plain": [
              "array([1.5246758 , 1.53967822, 1.64330447, 1.48473667, 2.01244712,\n",
              "       2.7285637 , 1.63520241, 1.52506422, 1.53318726, 1.62734999,\n",
              "       2.07429343, 1.62111986, 1.48267825, 2.61894213, 1.7086131 ,\n",
              "       1.61716593, 1.53236729, 1.9545761 , 1.81309013, 1.76452438,\n",
              "       1.53980312, 1.49069997, 1.84005176, 1.64003515, 2.05511403,\n",
              "       1.49942522, 1.48609019, 1.6186234 , 1.54359818, 1.67617522,\n",
              "       2.39311476, 2.74618564, 1.68942791, 2.34233898, 1.78097189,\n",
              "       1.62960909, 2.32426455])"
            ]
          },
          "metadata": {},
          "execution_count": 218
        }
      ]
    },
    {
      "cell_type": "code",
      "source": [
        "np.array(y_test)"
      ],
      "metadata": {
        "colab": {
          "base_uri": "https://localhost:8080/"
        },
        "id": "u_xzS4Pa2hbg",
        "outputId": "06b52fcd-1816-49ac-efa0-4ab8ef64929a"
      },
      "execution_count": 219,
      "outputs": [
        {
          "output_type": "execute_result",
          "data": {
            "text/plain": [
              "array([1.4034637 , 1.40823997, 1.72090317, 1.08849047, 2.17011497,\n",
              "       2.53096768, 1.68708284, 1.44638181, 1.3588862 , 1.69757803,\n",
              "       2.21301278, 1.70731463, 1.12742878, 2.49837948, 1.84553212,\n",
              "       1.69390274, 1.4724639 , 2.17429246, 2.05648559, 1.94517305,\n",
              "       1.50419892, 1.19368103, 2.0342674 , 1.81947813, 2.22520587,\n",
              "       1.2662317 , 1.08778142, 1.69731654, 1.45682135, 1.81967552,\n",
              "       2.43941165, 2.53932706, 1.7895102 , 2.36973522, 2.00121433,\n",
              "       1.72762258, 2.38639194])"
            ]
          },
          "metadata": {},
          "execution_count": 219
        }
      ]
    },
    {
      "cell_type": "code",
      "source": [
        "test_df['lasso Predicted Closing Price'] = 10**y_pred_lasso_cv\n",
        "lasso_df = test_df.loc[:,['Actual Closing Price','lasso Predicted Closing Price']]\n",
        "lasso_df.head(5)"
      ],
      "metadata": {
        "colab": {
          "base_uri": "https://localhost:8080/",
          "height": 206
        },
        "id": "2Dbl7n57JvdO",
        "outputId": "7a043868-7beb-4696-c3b4-592947956e33"
      },
      "execution_count": 220,
      "outputs": [
        {
          "output_type": "execute_result",
          "data": {
            "text/html": [
              "\n",
              "  <div id=\"df-954e3f8e-25b8-4e7c-a139-2767bcfd5466\">\n",
              "    <div class=\"colab-df-container\">\n",
              "      <div>\n",
              "<style scoped>\n",
              "    .dataframe tbody tr th:only-of-type {\n",
              "        vertical-align: middle;\n",
              "    }\n",
              "\n",
              "    .dataframe tbody tr th {\n",
              "        vertical-align: top;\n",
              "    }\n",
              "\n",
              "    .dataframe thead th {\n",
              "        text-align: right;\n",
              "    }\n",
              "</style>\n",
              "<table border=\"1\" class=\"dataframe\">\n",
              "  <thead>\n",
              "    <tr style=\"text-align: right;\">\n",
              "      <th></th>\n",
              "      <th>Actual Closing Price</th>\n",
              "      <th>lasso Predicted Closing Price</th>\n",
              "    </tr>\n",
              "  </thead>\n",
              "  <tbody>\n",
              "    <tr>\n",
              "      <th>16</th>\n",
              "      <td>25.32</td>\n",
              "      <td>33.471548</td>\n",
              "    </tr>\n",
              "    <tr>\n",
              "      <th>179</th>\n",
              "      <td>25.60</td>\n",
              "      <td>34.648004</td>\n",
              "    </tr>\n",
              "    <tr>\n",
              "      <th>66</th>\n",
              "      <td>52.59</td>\n",
              "      <td>43.984987</td>\n",
              "    </tr>\n",
              "    <tr>\n",
              "      <th>40</th>\n",
              "      <td>12.26</td>\n",
              "      <td>30.530694</td>\n",
              "    </tr>\n",
              "    <tr>\n",
              "      <th>166</th>\n",
              "      <td>147.95</td>\n",
              "      <td>102.907521</td>\n",
              "    </tr>\n",
              "  </tbody>\n",
              "</table>\n",
              "</div>\n",
              "      <button class=\"colab-df-convert\" onclick=\"convertToInteractive('df-954e3f8e-25b8-4e7c-a139-2767bcfd5466')\"\n",
              "              title=\"Convert this dataframe to an interactive table.\"\n",
              "              style=\"display:none;\">\n",
              "        \n",
              "  <svg xmlns=\"http://www.w3.org/2000/svg\" height=\"24px\"viewBox=\"0 0 24 24\"\n",
              "       width=\"24px\">\n",
              "    <path d=\"M0 0h24v24H0V0z\" fill=\"none\"/>\n",
              "    <path d=\"M18.56 5.44l.94 2.06.94-2.06 2.06-.94-2.06-.94-.94-2.06-.94 2.06-2.06.94zm-11 1L8.5 8.5l.94-2.06 2.06-.94-2.06-.94L8.5 2.5l-.94 2.06-2.06.94zm10 10l.94 2.06.94-2.06 2.06-.94-2.06-.94-.94-2.06-.94 2.06-2.06.94z\"/><path d=\"M17.41 7.96l-1.37-1.37c-.4-.4-.92-.59-1.43-.59-.52 0-1.04.2-1.43.59L10.3 9.45l-7.72 7.72c-.78.78-.78 2.05 0 2.83L4 21.41c.39.39.9.59 1.41.59.51 0 1.02-.2 1.41-.59l7.78-7.78 2.81-2.81c.8-.78.8-2.07 0-2.86zM5.41 20L4 18.59l7.72-7.72 1.47 1.35L5.41 20z\"/>\n",
              "  </svg>\n",
              "      </button>\n",
              "      \n",
              "  <style>\n",
              "    .colab-df-container {\n",
              "      display:flex;\n",
              "      flex-wrap:wrap;\n",
              "      gap: 12px;\n",
              "    }\n",
              "\n",
              "    .colab-df-convert {\n",
              "      background-color: #E8F0FE;\n",
              "      border: none;\n",
              "      border-radius: 50%;\n",
              "      cursor: pointer;\n",
              "      display: none;\n",
              "      fill: #1967D2;\n",
              "      height: 32px;\n",
              "      padding: 0 0 0 0;\n",
              "      width: 32px;\n",
              "    }\n",
              "\n",
              "    .colab-df-convert:hover {\n",
              "      background-color: #E2EBFA;\n",
              "      box-shadow: 0px 1px 2px rgba(60, 64, 67, 0.3), 0px 1px 3px 1px rgba(60, 64, 67, 0.15);\n",
              "      fill: #174EA6;\n",
              "    }\n",
              "\n",
              "    [theme=dark] .colab-df-convert {\n",
              "      background-color: #3B4455;\n",
              "      fill: #D2E3FC;\n",
              "    }\n",
              "\n",
              "    [theme=dark] .colab-df-convert:hover {\n",
              "      background-color: #434B5C;\n",
              "      box-shadow: 0px 1px 3px 1px rgba(0, 0, 0, 0.15);\n",
              "      filter: drop-shadow(0px 1px 2px rgba(0, 0, 0, 0.3));\n",
              "      fill: #FFFFFF;\n",
              "    }\n",
              "  </style>\n",
              "\n",
              "      <script>\n",
              "        const buttonEl =\n",
              "          document.querySelector('#df-954e3f8e-25b8-4e7c-a139-2767bcfd5466 button.colab-df-convert');\n",
              "        buttonEl.style.display =\n",
              "          google.colab.kernel.accessAllowed ? 'block' : 'none';\n",
              "\n",
              "        async function convertToInteractive(key) {\n",
              "          const element = document.querySelector('#df-954e3f8e-25b8-4e7c-a139-2767bcfd5466');\n",
              "          const dataTable =\n",
              "            await google.colab.kernel.invokeFunction('convertToInteractive',\n",
              "                                                     [key], {});\n",
              "          if (!dataTable) return;\n",
              "\n",
              "          const docLinkHtml = 'Like what you see? Visit the ' +\n",
              "            '<a target=\"_blank\" href=https://colab.research.google.com/notebooks/data_table.ipynb>data table notebook</a>'\n",
              "            + ' to learn more about interactive tables.';\n",
              "          element.innerHTML = '';\n",
              "          dataTable['output_type'] = 'display_data';\n",
              "          await google.colab.output.renderOutput(dataTable, element);\n",
              "          const docLink = document.createElement('div');\n",
              "          docLink.innerHTML = docLinkHtml;\n",
              "          element.appendChild(docLink);\n",
              "        }\n",
              "      </script>\n",
              "    </div>\n",
              "  </div>\n",
              "  "
            ],
            "text/plain": [
              "     Actual Closing Price  lasso Predicted Closing Price\n",
              "16                  25.32                      33.471548\n",
              "179                 25.60                      34.648004\n",
              "66                  52.59                      43.984987\n",
              "40                  12.26                      30.530694\n",
              "166                147.95                     102.907521"
            ]
          },
          "metadata": {},
          "execution_count": 220
        }
      ]
    },
    {
      "cell_type": "markdown",
      "source": [
        "**Evaluation Metrics of Lasso Regression after Validation:**"
      ],
      "metadata": {
        "id": "bc5tmA-A2pDv"
      }
    },
    {
      "cell_type": "code",
      "source": [
        "# Test Performance of lasso regression model after validation\n",
        "print(\"MSE :\",round(mean_squared_error(y_test, y_pred_lasso_cv), 4))\n",
        "print(\"RMSE :\",round(math.sqrt(mean_squared_error(y_test, y_pred_lasso_cv)),4))\n",
        "print(\"MAE :\",round(mean_absolute_error(y_test, y_pred_lasso_cv),4))\n",
        "print(\"MAPE :\",round(mean_absolute_percentage_error(y_test, y_pred_lasso_cv),4))\n",
        "print(\"R2 :\",round(r2_score(y_test, y_pred_lasso_cv), 4))"
      ],
      "metadata": {
        "colab": {
          "base_uri": "https://localhost:8080/"
        },
        "id": "8qEn1LOh2jlA",
        "outputId": "231f66a8-dafc-481f-c2d9-3513b3a0c3bb"
      },
      "execution_count": 221,
      "outputs": [
        {
          "output_type": "stream",
          "name": "stdout",
          "text": [
            "MSE : 0.0322\n",
            "RMSE : 0.1795\n",
            "MAE : 0.1528\n",
            "MAPE : 0.0968\n",
            "R2 : 0.819\n"
          ]
        }
      ]
    },
    {
      "cell_type": "markdown",
      "source": [
        "After validation accuracy increase"
      ],
      "metadata": {
        "id": "aktOWxi-3Dlc"
      }
    },
    {
      "cell_type": "markdown",
      "source": [
        "**Lasso Regression After Validation: Actual Vs. Predicted**"
      ],
      "metadata": {
        "id": "8Tj4L_IP3NxK"
      }
    },
    {
      "cell_type": "code",
      "source": [
        "# Actual Price vs. Predicted Price for Lasso Regression after Validation Plotting \n",
        "plt.figure(figsize=(10,5))\n",
        "plt.plot(10**(np.array(y_test)))\n",
        "plt.plot(10**(y_pred_lasso_cv))\n",
        "plt.suptitle('Actual Vs. Predicted Close Price: Lasso Regression After CV', fontsize=16)\n",
        "plt.legend(['Actual','Predicted'], fontsize=12)\n",
        "plt.xlabel('No of Test Data', fontsize=12)\n",
        "plt.ylabel('Closing Price', fontsize=12)\n",
        "plt.grid()"
      ],
      "metadata": {
        "colab": {
          "base_uri": "https://localhost:8080/",
          "height": 373
        },
        "id": "0_G_A8IL28KQ",
        "outputId": "eda06b4f-2556-499f-9138-5179d8b04ea4"
      },
      "execution_count": 222,
      "outputs": [
        {
          "output_type": "display_data",
          "data": {
            "image/png": "[encoded data removed]",
            "text/plain": [
              "<Figure size 720x360 with 1 Axes>"
            ]
          },
          "metadata": {
            "needs_background": "light"
          }
        }
      ]
    },
    {
      "cell_type": "markdown",
      "source": [
        "# **3) Ridge Regression**"
      ],
      "metadata": {
        "id": "6MqnjZfl3frr"
      }
    },
    {
      "cell_type": "code",
      "source": [
        "#fit data into Ridge Regression\n",
        "from sklearn.linear_model import Ridge\n",
        "\n",
        "ridge_reg = Ridge(alpha=0.01)\n",
        "ridge_reg_model = ridge_reg.fit(X_train,y_train)"
      ],
      "metadata": {
        "id": "XZ1Bz9xx3bir"
      },
      "execution_count": 223,
      "outputs": []
    },
    {
      "cell_type": "code",
      "source": [
        "#accuracy of lasso regression model\n",
        "round(ridge_reg.score(X_train,y_train),4)"
      ],
      "metadata": {
        "colab": {
          "base_uri": "https://localhost:8080/"
        },
        "id": "kR28SzIu3wRm",
        "outputId": "7cfebd39-37f8-47c2-b2af-49a23fe88849"
      },
      "execution_count": 224,
      "outputs": [
        {
          "output_type": "execute_result",
          "data": {
            "text/plain": [
              "0.8147"
            ]
          },
          "metadata": {},
          "execution_count": 224
        }
      ]
    },
    {
      "cell_type": "code",
      "source": [
        "#prediction of test data.\n",
        "y_pred_ridge = ridge_reg.predict(X_test)"
      ],
      "metadata": {
        "id": "inSSFm2J39uB"
      },
      "execution_count": 225,
      "outputs": []
    },
    {
      "cell_type": "code",
      "source": [
        "y_pred_ridge"
      ],
      "metadata": {
        "colab": {
          "base_uri": "https://localhost:8080/"
        },
        "id": "6eqDUimf4FhJ",
        "outputId": "ddbd20fb-9ec2-406f-f973-f4bef2448e0e"
      },
      "execution_count": 226,
      "outputs": [
        {
          "output_type": "execute_result",
          "data": {
            "text/plain": [
              "array([1.51737287, 1.53212183, 1.63527718, 1.47540733, 2.01476992,\n",
              "       2.74386608, 1.62612711, 1.518483  , 1.52357555, 1.62095755,\n",
              "       2.07724424, 1.61560489, 1.47293231, 2.63690439, 1.70389154,\n",
              "       1.61036116, 1.52500609, 1.95408562, 1.81948322, 1.76419247,\n",
              "       1.53164246, 1.48042498, 1.83887238, 1.63935141, 2.05988924,\n",
              "       1.49005809, 1.47677062, 1.61400144, 1.53538386, 1.66903264,\n",
              "       2.41743053, 2.75941508, 1.68270132, 2.34886131, 1.78252064,\n",
              "       1.62415831, 2.34089158])"
            ]
          },
          "metadata": {},
          "execution_count": 226
        }
      ]
    },
    {
      "cell_type": "code",
      "source": [
        "np.array(y_test)"
      ],
      "metadata": {
        "colab": {
          "base_uri": "https://localhost:8080/"
        },
        "id": "ABRJsIL64H2W",
        "outputId": "9e403e44-bd1d-40ef-cb6a-fd283197ba0a"
      },
      "execution_count": 227,
      "outputs": [
        {
          "output_type": "execute_result",
          "data": {
            "text/plain": [
              "array([1.4034637 , 1.40823997, 1.72090317, 1.08849047, 2.17011497,\n",
              "       2.53096768, 1.68708284, 1.44638181, 1.3588862 , 1.69757803,\n",
              "       2.21301278, 1.70731463, 1.12742878, 2.49837948, 1.84553212,\n",
              "       1.69390274, 1.4724639 , 2.17429246, 2.05648559, 1.94517305,\n",
              "       1.50419892, 1.19368103, 2.0342674 , 1.81947813, 2.22520587,\n",
              "       1.2662317 , 1.08778142, 1.69731654, 1.45682135, 1.81967552,\n",
              "       2.43941165, 2.53932706, 1.7895102 , 2.36973522, 2.00121433,\n",
              "       1.72762258, 2.38639194])"
            ]
          },
          "metadata": {},
          "execution_count": 227
        }
      ]
    },
    {
      "cell_type": "markdown",
      "source": [
        "**Ridge Regression: Actual Vs. Predicted**"
      ],
      "metadata": {
        "id": "vtoj8n8j4rgi"
      }
    },
    {
      "cell_type": "code",
      "source": [
        "# Actual Price vs. Predicted Price for Ridge Regression Plotting\n",
        "plt.figure(figsize=(10,5))\n",
        "plt.plot(10**(np.array(y_test)))\n",
        "plt.plot(10**(y_pred_ridge))\n",
        "plt.suptitle('Actual Vs. Predicted Close Price: Ridge Regression', fontsize=16)\n",
        "plt.legend(['Actual','Predicted'], fontsize=12)\n",
        "plt.xlabel('No of Test Data', fontsize=12)\n",
        "plt.ylabel('Closing Price', fontsize=12)\n",
        "plt.grid()"
      ],
      "metadata": {
        "colab": {
          "base_uri": "https://localhost:8080/",
          "height": 373
        },
        "id": "U4fJlv0q4J21",
        "outputId": "7d996a04-0997-4c2d-aaf1-0b94d1b27f9a"
      },
      "execution_count": 228,
      "outputs": [
        {
          "output_type": "display_data",
          "data": {
            "image/png": "[encoded data removed]",
            "text/plain": [
              "<Figure size 720x360 with 1 Axes>"
            ]
          },
          "metadata": {
            "needs_background": "light"
          }
        }
      ]
    },
    {
      "cell_type": "markdown",
      "source": [
        "# **Cross Validation on Ridge Regression**"
      ],
      "metadata": {
        "id": "HYGqb8-U42Up"
      }
    },
    {
      "cell_type": "code",
      "source": [
        "# Hyper-Parameter Tuning for Lasso Regression\n",
        "\n",
        "ridge_cv = Ridge()\n",
        "parameters = {'alpha':[1e-15,1e-13,1e-10,1e-8,1e-5,1e-4,1e-3,1e-2,1e-1,1,5,10,20,30,40,45,50,55,60,100]}\n",
        "ridge_model_cv = GridSearchCV(ridge_cv, parameters,scoring = 'neg_mean_squared_error',cv = 3)"
      ],
      "metadata": {
        "id": "6nGakKjs4xks"
      },
      "execution_count": 229,
      "outputs": []
    },
    {
      "cell_type": "code",
      "source": [
        "ridge_model_cv.fit(X_train,y_train)\n",
        "\n",
        "\n"
      ],
      "metadata": {
        "colab": {
          "base_uri": "https://localhost:8080/"
        },
        "id": "XdMw0hEv5fdm",
        "outputId": "c44e6190-769b-4e6d-d03c-e7fee0f872d0"
      },
      "execution_count": 230,
      "outputs": [
        {
          "output_type": "execute_result",
          "data": {
            "text/plain": [
              "GridSearchCV(cv=3, estimator=Ridge(),\n",
              "             param_grid={'alpha': [1e-15, 1e-13, 1e-10, 1e-08, 1e-05, 0.0001,\n",
              "                                   0.001, 0.01, 0.1, 1, 5, 10, 20, 30, 40, 45,\n",
              "                                   50, 55, 60, 100]},\n",
              "             scoring='neg_mean_squared_error')"
            ]
          },
          "metadata": {},
          "execution_count": 230
        }
      ]
    },
    {
      "cell_type": "code",
      "source": [
        "print(\"The best fit alpha value is found out to be :\" ,ridge_model_cv.best_params_['alpha'])\n",
        "print(\"The negative mean squared error for is: \", round(ridge_model_cv.best_score_,3))"
      ],
      "metadata": {
        "colab": {
          "base_uri": "https://localhost:8080/"
        },
        "id": "XH_7225J5i_6",
        "outputId": "7291260a-9f55-4001-eb49-2d0d0dfd68e3"
      },
      "execution_count": 231,
      "outputs": [
        {
          "output_type": "stream",
          "name": "stdout",
          "text": [
            "The best fit alpha value is found out to be : 10\n",
            "The negative mean squared error for is:  -0.035\n"
          ]
        }
      ]
    },
    {
      "cell_type": "code",
      "source": [
        "#prediction of test data.\n",
        "y_pred_ridge_cv = ridge_model_cv.predict(X_test)"
      ],
      "metadata": {
        "id": "DpqwG2js5nFy"
      },
      "execution_count": 232,
      "outputs": []
    },
    {
      "cell_type": "code",
      "source": [
        "y_pred_ridge_cv"
      ],
      "metadata": {
        "colab": {
          "base_uri": "https://localhost:8080/"
        },
        "id": "ERqXSmIG5qfK",
        "outputId": "04aa30fa-ef16-40e2-c152-5ed21bead88a"
      },
      "execution_count": 233,
      "outputs": [
        {
          "output_type": "execute_result",
          "data": {
            "text/plain": [
              "array([1.52133054, 1.53728128, 1.64940763, 1.4839079 , 2.02368702,\n",
              "       2.73378721, 1.64726711, 1.5213362 , 1.53624874, 1.6280259 ,\n",
              "       2.07922307, 1.61714065, 1.48054103, 2.61189076, 1.70753952,\n",
              "       1.61769429, 1.52987123, 1.96119864, 1.80123808, 1.75900482,\n",
              "       1.53947926, 1.49160849, 1.83960113, 1.63228305, 2.05254637,\n",
              "       1.49759728, 1.48541775, 1.61420655, 1.54258389, 1.68083452,\n",
              "       2.37546978, 2.76285145, 1.69521298, 2.35812164, 1.77364892,\n",
              "       1.62674463, 2.3102558 ])"
            ]
          },
          "metadata": {},
          "execution_count": 233
        }
      ]
    },
    {
      "cell_type": "code",
      "source": [
        "np.array(y_test)"
      ],
      "metadata": {
        "colab": {
          "base_uri": "https://localhost:8080/"
        },
        "id": "vpkc3d2h5syC",
        "outputId": "e9a264a3-ffb3-4c73-837e-329c3f6d4a24"
      },
      "execution_count": 234,
      "outputs": [
        {
          "output_type": "execute_result",
          "data": {
            "text/plain": [
              "array([1.4034637 , 1.40823997, 1.72090317, 1.08849047, 2.17011497,\n",
              "       2.53096768, 1.68708284, 1.44638181, 1.3588862 , 1.69757803,\n",
              "       2.21301278, 1.70731463, 1.12742878, 2.49837948, 1.84553212,\n",
              "       1.69390274, 1.4724639 , 2.17429246, 2.05648559, 1.94517305,\n",
              "       1.50419892, 1.19368103, 2.0342674 , 1.81947813, 2.22520587,\n",
              "       1.2662317 , 1.08778142, 1.69731654, 1.45682135, 1.81967552,\n",
              "       2.43941165, 2.53932706, 1.7895102 , 2.36973522, 2.00121433,\n",
              "       1.72762258, 2.38639194])"
            ]
          },
          "metadata": {},
          "execution_count": 234
        }
      ]
    },
    {
      "cell_type": "code",
      "source": [
        "test_df['Ridge Predicted Closing Price'] = 10**y_pred_ridge_cv\n",
        "ridge_df = test_df.loc[:,['Actual Closing Price','Ridge Predicted Closing Price']]\n",
        "ridge_df.head(5)"
      ],
      "metadata": {
        "colab": {
          "base_uri": "https://localhost:8080/",
          "height": 206
        },
        "id": "OJa335VRJe0_",
        "outputId": "2e90e633-df9a-4315-f87f-40d3d355a17d"
      },
      "execution_count": 235,
      "outputs": [
        {
          "output_type": "execute_result",
          "data": {
            "text/html": [
              "\n",
              "  <div id=\"df-ef0fcc66-6f18-4207-b3e6-c48e79b4db88\">\n",
              "    <div class=\"colab-df-container\">\n",
              "      <div>\n",
              "<style scoped>\n",
              "    .dataframe tbody tr th:only-of-type {\n",
              "        vertical-align: middle;\n",
              "    }\n",
              "\n",
              "    .dataframe tbody tr th {\n",
              "        vertical-align: top;\n",
              "    }\n",
              "\n",
              "    .dataframe thead th {\n",
              "        text-align: right;\n",
              "    }\n",
              "</style>\n",
              "<table border=\"1\" class=\"dataframe\">\n",
              "  <thead>\n",
              "    <tr style=\"text-align: right;\">\n",
              "      <th></th>\n",
              "      <th>Actual Closing Price</th>\n",
              "      <th>Ridge Predicted Closing Price</th>\n",
              "    </tr>\n",
              "  </thead>\n",
              "  <tbody>\n",
              "    <tr>\n",
              "      <th>16</th>\n",
              "      <td>25.32</td>\n",
              "      <td>33.214715</td>\n",
              "    </tr>\n",
              "    <tr>\n",
              "      <th>179</th>\n",
              "      <td>25.60</td>\n",
              "      <td>34.457302</td>\n",
              "    </tr>\n",
              "    <tr>\n",
              "      <th>66</th>\n",
              "      <td>52.59</td>\n",
              "      <td>44.607474</td>\n",
              "    </tr>\n",
              "    <tr>\n",
              "      <th>40</th>\n",
              "      <td>12.26</td>\n",
              "      <td>30.472487</td>\n",
              "    </tr>\n",
              "    <tr>\n",
              "      <th>166</th>\n",
              "      <td>147.95</td>\n",
              "      <td>105.605617</td>\n",
              "    </tr>\n",
              "  </tbody>\n",
              "</table>\n",
              "</div>\n",
              "      <button class=\"colab-df-convert\" onclick=\"convertToInteractive('df-ef0fcc66-6f18-4207-b3e6-c48e79b4db88')\"\n",
              "              title=\"Convert this dataframe to an interactive table.\"\n",
              "              style=\"display:none;\">\n",
              "        \n",
              "  <svg xmlns=\"http://www.w3.org/2000/svg\" height=\"24px\"viewBox=\"0 0 24 24\"\n",
              "       width=\"24px\">\n",
              "    <path d=\"M0 0h24v24H0V0z\" fill=\"none\"/>\n",
              "    <path d=\"M18.56 5.44l.94 2.06.94-2.06 2.06-.94-2.06-.94-.94-2.06-.94 2.06-2.06.94zm-11 1L8.5 8.5l.94-2.06 2.06-.94-2.06-.94L8.5 2.5l-.94 2.06-2.06.94zm10 10l.94 2.06.94-2.06 2.06-.94-2.06-.94-.94-2.06-.94 2.06-2.06.94z\"/><path d=\"M17.41 7.96l-1.37-1.37c-.4-.4-.92-.59-1.43-.59-.52 0-1.04.2-1.43.59L10.3 9.45l-7.72 7.72c-.78.78-.78 2.05 0 2.83L4 21.41c.39.39.9.59 1.41.59.51 0 1.02-.2 1.41-.59l7.78-7.78 2.81-2.81c.8-.78.8-2.07 0-2.86zM5.41 20L4 18.59l7.72-7.72 1.47 1.35L5.41 20z\"/>\n",
              "  </svg>\n",
              "      </button>\n",
              "      \n",
              "  <style>\n",
              "    .colab-df-container {\n",
              "      display:flex;\n",
              "      flex-wrap:wrap;\n",
              "      gap: 12px;\n",
              "    }\n",
              "\n",
              "    .colab-df-convert {\n",
              "      background-color: #E8F0FE;\n",
              "      border: none;\n",
              "      border-radius: 50%;\n",
              "      cursor: pointer;\n",
              "      display: none;\n",
              "      fill: #1967D2;\n",
              "      height: 32px;\n",
              "      padding: 0 0 0 0;\n",
              "      width: 32px;\n",
              "    }\n",
              "\n",
              "    .colab-df-convert:hover {\n",
              "      background-color: #E2EBFA;\n",
              "      box-shadow: 0px 1px 2px rgba(60, 64, 67, 0.3), 0px 1px 3px 1px rgba(60, 64, 67, 0.15);\n",
              "      fill: #174EA6;\n",
              "    }\n",
              "\n",
              "    [theme=dark] .colab-df-convert {\n",
              "      background-color: #3B4455;\n",
              "      fill: #D2E3FC;\n",
              "    }\n",
              "\n",
              "    [theme=dark] .colab-df-convert:hover {\n",
              "      background-color: #434B5C;\n",
              "      box-shadow: 0px 1px 3px 1px rgba(0, 0, 0, 0.15);\n",
              "      filter: drop-shadow(0px 1px 2px rgba(0, 0, 0, 0.3));\n",
              "      fill: #FFFFFF;\n",
              "    }\n",
              "  </style>\n",
              "\n",
              "      <script>\n",
              "        const buttonEl =\n",
              "          document.querySelector('#df-ef0fcc66-6f18-4207-b3e6-c48e79b4db88 button.colab-df-convert');\n",
              "        buttonEl.style.display =\n",
              "          google.colab.kernel.accessAllowed ? 'block' : 'none';\n",
              "\n",
              "        async function convertToInteractive(key) {\n",
              "          const element = document.querySelector('#df-ef0fcc66-6f18-4207-b3e6-c48e79b4db88');\n",
              "          const dataTable =\n",
              "            await google.colab.kernel.invokeFunction('convertToInteractive',\n",
              "                                                     [key], {});\n",
              "          if (!dataTable) return;\n",
              "\n",
              "          const docLinkHtml = 'Like what you see? Visit the ' +\n",
              "            '<a target=\"_blank\" href=https://colab.research.google.com/notebooks/data_table.ipynb>data table notebook</a>'\n",
              "            + ' to learn more about interactive tables.';\n",
              "          element.innerHTML = '';\n",
              "          dataTable['output_type'] = 'display_data';\n",
              "          await google.colab.output.renderOutput(dataTable, element);\n",
              "          const docLink = document.createElement('div');\n",
              "          docLink.innerHTML = docLinkHtml;\n",
              "          element.appendChild(docLink);\n",
              "        }\n",
              "      </script>\n",
              "    </div>\n",
              "  </div>\n",
              "  "
            ],
            "text/plain": [
              "     Actual Closing Price  Ridge Predicted Closing Price\n",
              "16                  25.32                      33.214715\n",
              "179                 25.60                      34.457302\n",
              "66                  52.59                      44.607474\n",
              "40                  12.26                      30.472487\n",
              "166                147.95                     105.605617"
            ]
          },
          "metadata": {},
          "execution_count": 235
        }
      ]
    },
    {
      "cell_type": "markdown",
      "source": [
        "**Evaluation Metrics of Ridge Regression after Validation:-**"
      ],
      "metadata": {
        "id": "Xg88OE7951AP"
      }
    },
    {
      "cell_type": "code",
      "source": [
        "# Test Performance of ridge regression model after validation\n",
        "print(\"MSE :\",round(mean_squared_error(y_test, y_pred_ridge_cv), 4))\n",
        "print(\"RMSE :\",round(math.sqrt(mean_squared_error(y_test, y_pred_ridge_cv)),4))\n",
        "print(\"MAE :\",round(mean_absolute_error(y_test, y_pred_ridge_cv),4))\n",
        "print(\"MAPE :\",round(mean_absolute_percentage_error(y_test, y_pred_ridge_cv),4))\n",
        "print(\"R2 :\",round(r2_score(y_test, y_pred_ridge_cv), 4))"
      ],
      "metadata": {
        "colab": {
          "base_uri": "https://localhost:8080/"
        },
        "id": "_B5f49AM5v9S",
        "outputId": "14be0a90-3ee8-4462-9fc9-264322d6ac60"
      },
      "execution_count": 236,
      "outputs": [
        {
          "output_type": "stream",
          "name": "stdout",
          "text": [
            "MSE : 0.0325\n",
            "RMSE : 0.1804\n",
            "MAE : 0.1531\n",
            "MAPE : 0.0968\n",
            "R2 : 0.8172\n"
          ]
        }
      ]
    },
    {
      "cell_type": "markdown",
      "source": [
        "**Ridge Regression After Validation: Actual Vs. Predicted**"
      ],
      "metadata": {
        "id": "TSrYiYCF6Dk-"
      }
    },
    {
      "cell_type": "code",
      "source": [
        "# Actual Price vs. Predicted Price for Ridge Regression after Validation Plotting \n",
        "plt.figure(figsize=(10,5))\n",
        "plt.plot(10**(np.array(y_test)))\n",
        "plt.plot(10**(y_pred_ridge_cv))\n",
        "plt.suptitle('Actual Vs. Predicted Close Price: Ridge Regression After CV', fontsize=16)\n",
        "plt.legend(['Actual','Predicted'], fontsize=12)\n",
        "plt.xlabel('No of Test Data', fontsize=12)\n",
        "plt.ylabel('Closing Price', fontsize=12)\n",
        "plt.grid()"
      ],
      "metadata": {
        "colab": {
          "base_uri": "https://localhost:8080/",
          "height": 373
        },
        "id": "yp6x_gNH59hC",
        "outputId": "3a4eb5c3-d190-4e79-ed8f-01fba825cd38"
      },
      "execution_count": 237,
      "outputs": [
        {
          "output_type": "display_data",
          "data": {
            "image/png": "[encoded data removed]",
            "text/plain": [
              "<Figure size 720x360 with 1 Axes>"
            ]
          },
          "metadata": {
            "needs_background": "light"
          }
        }
      ]
    },
    {
      "cell_type": "markdown",
      "source": [
        "# **4) Elastic Net Regression**"
      ],
      "metadata": {
        "id": "DF65ZDWr6NnI"
      }
    },
    {
      "cell_type": "code",
      "source": [
        "#fit data into Elastic Net\n",
        "from sklearn.linear_model import ElasticNet\n",
        "\n",
        "elastic = ElasticNet(alpha=0.1,l1_ratio=0.5)\n",
        "elastic_model = elastic.fit(X_train,y_train)"
      ],
      "metadata": {
        "id": "0IexTG4j6IXR"
      },
      "execution_count": 238,
      "outputs": []
    },
    {
      "cell_type": "code",
      "source": [
        "#accuracy of lasso regression model\n",
        "round(elastic.score(X_train,y_train),3)"
      ],
      "metadata": {
        "colab": {
          "base_uri": "https://localhost:8080/"
        },
        "id": "k11RsWv-6hwg",
        "outputId": "c6cb12ff-b6d6-49b6-b30d-ef006286b13c"
      },
      "execution_count": 239,
      "outputs": [
        {
          "output_type": "execute_result",
          "data": {
            "text/plain": [
              "0.796"
            ]
          },
          "metadata": {},
          "execution_count": 239
        }
      ]
    },
    {
      "cell_type": "code",
      "source": [
        "#prediction of test data.\n",
        "y_pred_elastic = elastic.predict(X_test)"
      ],
      "metadata": {
        "id": "UMNxx-8k6kh9"
      },
      "execution_count": 240,
      "outputs": []
    },
    {
      "cell_type": "code",
      "source": [
        "y_pred_elastic"
      ],
      "metadata": {
        "colab": {
          "base_uri": "https://localhost:8080/"
        },
        "id": "oDwbYwDf6uAJ",
        "outputId": "daca2a21-a2c1-4d20-d9a1-e69e55b3843c"
      },
      "execution_count": 241,
      "outputs": [
        {
          "output_type": "execute_result",
          "data": {
            "text/plain": [
              "array([1.56086628, 1.57468956, 1.67199754, 1.52786225, 1.99947735,\n",
              "       2.620323  , 1.66975894, 1.56099604, 1.57327896, 1.65381518,\n",
              "       2.04818128, 1.64463306, 1.52491149, 2.51497513, 1.72340633,\n",
              "       1.64475613, 1.56826762, 1.94476918, 1.80713181, 1.769077  ,\n",
              "       1.57643749, 1.53436335, 1.83898052, 1.65870367, 2.02548893,\n",
              "       1.53981805, 1.52917355, 1.64223008, 1.57915854, 1.69956403,\n",
              "       2.3103639 , 2.64491655, 1.71211439, 2.29131841, 1.78218876,\n",
              "       1.65297013, 2.25223609])"
            ]
          },
          "metadata": {},
          "execution_count": 241
        }
      ]
    },
    {
      "cell_type": "code",
      "source": [
        "np.array(y_pred)"
      ],
      "metadata": {
        "colab": {
          "base_uri": "https://localhost:8080/"
        },
        "id": "d1_9NBk96wxB",
        "outputId": "32eb7041-4a49-47c2-ad51-78fd5f436089"
      },
      "execution_count": 242,
      "outputs": [
        {
          "output_type": "execute_result",
          "data": {
            "text/plain": [
              "array([1.51738682, 1.53211837, 1.63519027, 1.47539354, 2.01471458,\n",
              "       2.74366588, 1.62601875, 1.51851685, 1.52352095, 1.62092587,\n",
              "       2.07716025, 1.61560053, 1.47290774, 2.63685207, 1.70384859,\n",
              "       1.61032504, 1.52501328, 1.95399032, 1.81967493, 1.76423173,\n",
              "       1.53162271, 1.480381  , 1.83883617, 1.6394682 , 2.05986731,\n",
              "       1.49003242, 1.4767562 , 1.61402383, 1.53535964, 1.66894676,\n",
              "       2.4177132 , 2.75914846, 1.68261819, 2.34869197, 1.78260049,\n",
              "       1.62415017, 2.34100799])"
            ]
          },
          "metadata": {},
          "execution_count": 242
        }
      ]
    },
    {
      "cell_type": "code",
      "source": [
        "# Test Performance of Elastic Net model\n",
        "print(\"MSE :\",round(mean_squared_error(y_test, y_pred_elastic), 4))\n",
        "print(\"RMSE :\",round(math.sqrt(mean_squared_error(y_test, y_pred_elastic)),4))\n",
        "print(\"MAE :\",round(mean_absolute_error(y_test, y_pred_elastic),4))\n",
        "print(\"MAPE :\",round(mean_absolute_percentage_error(y_test, y_pred_elastic),4))\n",
        "print(\"R2 :\",round(r2_score(y_test, y_pred_elastic), 4))"
      ],
      "metadata": {
        "colab": {
          "base_uri": "https://localhost:8080/"
        },
        "id": "RJvloAbQ61Sw",
        "outputId": "fd2c5dd2-0ca1-4d1e-a9ef-690b6ce9c360"
      },
      "execution_count": 243,
      "outputs": [
        {
          "output_type": "stream",
          "name": "stdout",
          "text": [
            "MSE : 0.0364\n",
            "RMSE : 0.1908\n",
            "MAE : 0.1574\n",
            "MAPE : 0.1024\n",
            "R2 : 0.7955\n"
          ]
        }
      ]
    },
    {
      "cell_type": "markdown",
      "source": [
        "**Elastic Net: Actual Vs. Predicted**"
      ],
      "metadata": {
        "id": "KqZnL8j37J9p"
      }
    },
    {
      "cell_type": "code",
      "source": [
        "# Actual Price vs. Predicted Price for Elastic Net Plotting\n",
        "plt.figure(figsize=(10,5))\n",
        "plt.plot(10**(np.array(y_test)))\n",
        "plt.plot(10**(y_pred_elastic))\n",
        "plt.suptitle('Actual Vs. Predicted Close Price: Elastic Net', fontsize=16)\n",
        "plt.legend(['Actual','Predicted'], fontsize=12)\n",
        "plt.xlabel('No of Test Data', fontsize=12)\n",
        "plt.ylabel('Closing Price', fontsize=12)\n",
        "plt.grid()"
      ],
      "metadata": {
        "colab": {
          "base_uri": "https://localhost:8080/",
          "height": 373
        },
        "id": "qU99JthT7Dgq",
        "outputId": "b761b02f-24a8-4dee-e463-537f32d20e31"
      },
      "execution_count": 244,
      "outputs": [
        {
          "output_type": "display_data",
          "data": {
            "image/png": "[encoded data removed]",
            "text/plain": [
              "<Figure size 720x360 with 1 Axes>"
            ]
          },
          "metadata": {
            "needs_background": "light"
          }
        }
      ]
    },
    {
      "cell_type": "markdown",
      "source": [
        "# **Cross Validation on Elastic Net**"
      ],
      "metadata": {
        "id": "qMlWsmeb7mVw"
      }
    },
    {
      "cell_type": "code",
      "source": [
        "# Hyper-Parameter Tuning for Elastic Net\n",
        "\n",
        "elastic_cv = ElasticNet()\n",
        "parameters = {'alpha':[1e-15,1e-13,1e-10,1e-8,1e-5,1e-4,1e-3,1e-2,1e-1,1,5,10,20,30,40,45,50,55,60,100],'l1_ratio':[0.3,0.4,0.5,0.6,0.7,0.8,1,2]}\n",
        "elastic_model_cv = GridSearchCV(elastic_cv,parameters,scoring='neg_mean_squared_error',cv=5)"
      ],
      "metadata": {
        "id": "B7HIDWlk7Xo4"
      },
      "execution_count": 245,
      "outputs": []
    },
    {
      "cell_type": "code",
      "source": [
        "elastic_model_cv.fit(X_train,y_train)"
      ],
      "metadata": {
        "colab": {
          "base_uri": "https://localhost:8080/"
        },
        "id": "HbAQpHK472ea",
        "outputId": "da86a438-a33b-457c-fb1c-d5d87ecea1ad"
      },
      "execution_count": 246,
      "outputs": [
        {
          "output_type": "execute_result",
          "data": {
            "text/plain": [
              "GridSearchCV(cv=5, estimator=ElasticNet(),\n",
              "             param_grid={'alpha': [1e-15, 1e-13, 1e-10, 1e-08, 1e-05, 0.0001,\n",
              "                                   0.001, 0.01, 0.1, 1, 5, 10, 20, 30, 40, 45,\n",
              "                                   50, 55, 60, 100],\n",
              "                         'l1_ratio': [0.3, 0.4, 0.5, 0.6, 0.7, 0.8, 1, 2]},\n",
              "             scoring='neg_mean_squared_error')"
            ]
          },
          "metadata": {},
          "execution_count": 246
        }
      ]
    },
    {
      "cell_type": "code",
      "source": [
        "elastic_model_cv.best_params_"
      ],
      "metadata": {
        "colab": {
          "base_uri": "https://localhost:8080/"
        },
        "id": "hmTR7xWQ8KR3",
        "outputId": "3b63f3ee-c089-4f92-ee3c-d78b319ec7b3"
      },
      "execution_count": 247,
      "outputs": [
        {
          "output_type": "execute_result",
          "data": {
            "text/plain": [
              "{'alpha': 0.01, 'l1_ratio': 1}"
            ]
          },
          "metadata": {},
          "execution_count": 247
        }
      ]
    },
    {
      "cell_type": "code",
      "source": [
        "print(\"The best fit alpha and L1 ratio value is found out to be :\" ,elastic_model_cv.best_params_['alpha'], elastic_model_cv.best_params_['l1_ratio'])\n",
        "print(\"The negative mean squared error for is: \", round(elastic_model_cv.best_score_,3))"
      ],
      "metadata": {
        "colab": {
          "base_uri": "https://localhost:8080/"
        },
        "id": "DDdTjj1H8m-W",
        "outputId": "c19af6c5-26e6-4879-cb24-dd826131292b"
      },
      "execution_count": 248,
      "outputs": [
        {
          "output_type": "stream",
          "name": "stdout",
          "text": [
            "The best fit alpha and L1 ratio value is found out to be : 0.01 1\n",
            "The negative mean squared error for is:  -0.037\n"
          ]
        }
      ]
    },
    {
      "cell_type": "code",
      "source": [
        "#prediction of test and train data.\n",
        "y_pred_elastic_cv = elastic_model_cv.predict(X_test)"
      ],
      "metadata": {
        "id": "xWjNNl-f81h9"
      },
      "execution_count": 249,
      "outputs": []
    },
    {
      "cell_type": "code",
      "source": [
        "y_pred_elastic_cv"
      ],
      "metadata": {
        "colab": {
          "base_uri": "https://localhost:8080/"
        },
        "id": "_2jfhjXF9DmF",
        "outputId": "e341bf14-4787-4ab4-ba60-7da78b21a17b"
      },
      "execution_count": 250,
      "outputs": [
        {
          "output_type": "execute_result",
          "data": {
            "text/plain": [
              "array([1.5246758 , 1.53967822, 1.64330447, 1.48473667, 2.01244712,\n",
              "       2.7285637 , 1.63520241, 1.52506422, 1.53318726, 1.62734999,\n",
              "       2.07429343, 1.62111986, 1.48267825, 2.61894213, 1.7086131 ,\n",
              "       1.61716593, 1.53236729, 1.9545761 , 1.81309013, 1.76452438,\n",
              "       1.53980312, 1.49069997, 1.84005176, 1.64003515, 2.05511403,\n",
              "       1.49942522, 1.48609019, 1.6186234 , 1.54359818, 1.67617522,\n",
              "       2.39311476, 2.74618564, 1.68942791, 2.34233898, 1.78097189,\n",
              "       1.62960909, 2.32426455])"
            ]
          },
          "metadata": {},
          "execution_count": 250
        }
      ]
    },
    {
      "cell_type": "code",
      "source": [
        "np.array(y_test)"
      ],
      "metadata": {
        "colab": {
          "base_uri": "https://localhost:8080/"
        },
        "id": "94qwrT3h9Gcr",
        "outputId": "4d5f63d9-8bbb-4acd-f496-a40433b2db21"
      },
      "execution_count": 251,
      "outputs": [
        {
          "output_type": "execute_result",
          "data": {
            "text/plain": [
              "array([1.4034637 , 1.40823997, 1.72090317, 1.08849047, 2.17011497,\n",
              "       2.53096768, 1.68708284, 1.44638181, 1.3588862 , 1.69757803,\n",
              "       2.21301278, 1.70731463, 1.12742878, 2.49837948, 1.84553212,\n",
              "       1.69390274, 1.4724639 , 2.17429246, 2.05648559, 1.94517305,\n",
              "       1.50419892, 1.19368103, 2.0342674 , 1.81947813, 2.22520587,\n",
              "       1.2662317 , 1.08778142, 1.69731654, 1.45682135, 1.81967552,\n",
              "       2.43941165, 2.53932706, 1.7895102 , 2.36973522, 2.00121433,\n",
              "       1.72762258, 2.38639194])"
            ]
          },
          "metadata": {},
          "execution_count": 251
        }
      ]
    },
    {
      "cell_type": "code",
      "source": [
        "test_df['Elastic net Predicted Closing Price'] = 10**y_pred_elastic_cv\n",
        "elastic_df = test_df.loc[:,['Actual Closing Price','Elastic net Predicted Closing Price']]\n",
        "elastic_df.head(5)"
      ],
      "metadata": {
        "colab": {
          "base_uri": "https://localhost:8080/",
          "height": 206
        },
        "id": "QjsEK9iFKEG6",
        "outputId": "0271f633-ad08-4669-868e-b72162fea3bd"
      },
      "execution_count": 252,
      "outputs": [
        {
          "output_type": "execute_result",
          "data": {
            "text/html": [
              "\n",
              "  <div id=\"df-433ff9c3-11fe-487d-b345-8229f9058e9e\">\n",
              "    <div class=\"colab-df-container\">\n",
              "      <div>\n",
              "<style scoped>\n",
              "    .dataframe tbody tr th:only-of-type {\n",
              "        vertical-align: middle;\n",
              "    }\n",
              "\n",
              "    .dataframe tbody tr th {\n",
              "        vertical-align: top;\n",
              "    }\n",
              "\n",
              "    .dataframe thead th {\n",
              "        text-align: right;\n",
              "    }\n",
              "</style>\n",
              "<table border=\"1\" class=\"dataframe\">\n",
              "  <thead>\n",
              "    <tr style=\"text-align: right;\">\n",
              "      <th></th>\n",
              "      <th>Actual Closing Price</th>\n",
              "      <th>Elastic net Predicted Closing Price</th>\n",
              "    </tr>\n",
              "  </thead>\n",
              "  <tbody>\n",
              "    <tr>\n",
              "      <th>16</th>\n",
              "      <td>25.32</td>\n",
              "      <td>33.471548</td>\n",
              "    </tr>\n",
              "    <tr>\n",
              "      <th>179</th>\n",
              "      <td>25.60</td>\n",
              "      <td>34.648004</td>\n",
              "    </tr>\n",
              "    <tr>\n",
              "      <th>66</th>\n",
              "      <td>52.59</td>\n",
              "      <td>43.984987</td>\n",
              "    </tr>\n",
              "    <tr>\n",
              "      <th>40</th>\n",
              "      <td>12.26</td>\n",
              "      <td>30.530694</td>\n",
              "    </tr>\n",
              "    <tr>\n",
              "      <th>166</th>\n",
              "      <td>147.95</td>\n",
              "      <td>102.907521</td>\n",
              "    </tr>\n",
              "  </tbody>\n",
              "</table>\n",
              "</div>\n",
              "      <button class=\"colab-df-convert\" onclick=\"convertToInteractive('df-433ff9c3-11fe-487d-b345-8229f9058e9e')\"\n",
              "              title=\"Convert this dataframe to an interactive table.\"\n",
              "              style=\"display:none;\">\n",
              "        \n",
              "  <svg xmlns=\"http://www.w3.org/2000/svg\" height=\"24px\"viewBox=\"0 0 24 24\"\n",
              "       width=\"24px\">\n",
              "    <path d=\"M0 0h24v24H0V0z\" fill=\"none\"/>\n",
              "    <path d=\"M18.56 5.44l.94 2.06.94-2.06 2.06-.94-2.06-.94-.94-2.06-.94 2.06-2.06.94zm-11 1L8.5 8.5l.94-2.06 2.06-.94-2.06-.94L8.5 2.5l-.94 2.06-2.06.94zm10 10l.94 2.06.94-2.06 2.06-.94-2.06-.94-.94-2.06-.94 2.06-2.06.94z\"/><path d=\"M17.41 7.96l-1.37-1.37c-.4-.4-.92-.59-1.43-.59-.52 0-1.04.2-1.43.59L10.3 9.45l-7.72 7.72c-.78.78-.78 2.05 0 2.83L4 21.41c.39.39.9.59 1.41.59.51 0 1.02-.2 1.41-.59l7.78-7.78 2.81-2.81c.8-.78.8-2.07 0-2.86zM5.41 20L4 18.59l7.72-7.72 1.47 1.35L5.41 20z\"/>\n",
              "  </svg>\n",
              "      </button>\n",
              "      \n",
              "  <style>\n",
              "    .colab-df-container {\n",
              "      display:flex;\n",
              "      flex-wrap:wrap;\n",
              "      gap: 12px;\n",
              "    }\n",
              "\n",
              "    .colab-df-convert {\n",
              "      background-color: #E8F0FE;\n",
              "      border: none;\n",
              "      border-radius: 50%;\n",
              "      cursor: pointer;\n",
              "      display: none;\n",
              "      fill: #1967D2;\n",
              "      height: 32px;\n",
              "      padding: 0 0 0 0;\n",
              "      width: 32px;\n",
              "    }\n",
              "\n",
              "    .colab-df-convert:hover {\n",
              "      background-color: #E2EBFA;\n",
              "      box-shadow: 0px 1px 2px rgba(60, 64, 67, 0.3), 0px 1px 3px 1px rgba(60, 64, 67, 0.15);\n",
              "      fill: #174EA6;\n",
              "    }\n",
              "\n",
              "    [theme=dark] .colab-df-convert {\n",
              "      background-color: #3B4455;\n",
              "      fill: #D2E3FC;\n",
              "    }\n",
              "\n",
              "    [theme=dark] .colab-df-convert:hover {\n",
              "      background-color: #434B5C;\n",
              "      box-shadow: 0px 1px 3px 1px rgba(0, 0, 0, 0.15);\n",
              "      filter: drop-shadow(0px 1px 2px rgba(0, 0, 0, 0.3));\n",
              "      fill: #FFFFFF;\n",
              "    }\n",
              "  </style>\n",
              "\n",
              "      <script>\n",
              "        const buttonEl =\n",
              "          document.querySelector('#df-433ff9c3-11fe-487d-b345-8229f9058e9e button.colab-df-convert');\n",
              "        buttonEl.style.display =\n",
              "          google.colab.kernel.accessAllowed ? 'block' : 'none';\n",
              "\n",
              "        async function convertToInteractive(key) {\n",
              "          const element = document.querySelector('#df-433ff9c3-11fe-487d-b345-8229f9058e9e');\n",
              "          const dataTable =\n",
              "            await google.colab.kernel.invokeFunction('convertToInteractive',\n",
              "                                                     [key], {});\n",
              "          if (!dataTable) return;\n",
              "\n",
              "          const docLinkHtml = 'Like what you see? Visit the ' +\n",
              "            '<a target=\"_blank\" href=https://colab.research.google.com/notebooks/data_table.ipynb>data table notebook</a>'\n",
              "            + ' to learn more about interactive tables.';\n",
              "          element.innerHTML = '';\n",
              "          dataTable['output_type'] = 'display_data';\n",
              "          await google.colab.output.renderOutput(dataTable, element);\n",
              "          const docLink = document.createElement('div');\n",
              "          docLink.innerHTML = docLinkHtml;\n",
              "          element.appendChild(docLink);\n",
              "        }\n",
              "      </script>\n",
              "    </div>\n",
              "  </div>\n",
              "  "
            ],
            "text/plain": [
              "     Actual Closing Price  Elastic net Predicted Closing Price\n",
              "16                  25.32                            33.471548\n",
              "179                 25.60                            34.648004\n",
              "66                  52.59                            43.984987\n",
              "40                  12.26                            30.530694\n",
              "166                147.95                           102.907521"
            ]
          },
          "metadata": {},
          "execution_count": 252
        }
      ]
    },
    {
      "cell_type": "markdown",
      "source": [
        "**Evaluation Metrics of Elastic Net after Validation:**"
      ],
      "metadata": {
        "id": "Wh9Oqt1x9VJb"
      }
    },
    {
      "cell_type": "code",
      "source": [
        "# Test Performance of Elastic Net model after validation\n",
        "print(\"MSE :\",round(mean_squared_error(y_test, y_pred_elastic_cv), 4))\n",
        "print(\"RMSE :\",round(math.sqrt(mean_squared_error(y_test, y_pred_elastic_cv)),4))\n",
        "print(\"MAE :\",round(mean_absolute_error(y_test, y_pred_elastic_cv),4))\n",
        "print(\"MAPE :\",round(mean_absolute_percentage_error(y_test, y_pred_elastic_cv),4))\n",
        "print(\"R2 :\",round(r2_score(y_test, y_pred_elastic_cv), 4))"
      ],
      "metadata": {
        "colab": {
          "base_uri": "https://localhost:8080/"
        },
        "id": "6nB4-UiC9JYL",
        "outputId": "f9a57746-c463-43bc-f40e-5f3ec6984b90"
      },
      "execution_count": 253,
      "outputs": [
        {
          "output_type": "stream",
          "name": "stdout",
          "text": [
            "MSE : 0.0322\n",
            "RMSE : 0.1795\n",
            "MAE : 0.1528\n",
            "MAPE : 0.0968\n",
            "R2 : 0.819\n"
          ]
        }
      ]
    },
    {
      "cell_type": "markdown",
      "source": [
        "**Elastic Net After Validation: Actual Vs. Predicted**"
      ],
      "metadata": {
        "id": "sUTGyVyb9jgi"
      }
    },
    {
      "cell_type": "code",
      "source": [
        "# Actual Price vs. Predicted Price for Elastic Net after Validation Plotting \n",
        "plt.figure(figsize=(10,5))\n",
        "plt.plot(10**(np.array(y_test)))\n",
        "plt.plot(10**(y_pred_elastic_cv))\n",
        "plt.suptitle('Actual Vs. Predicted Close Price: Elastic Net After CV', fontsize=16)\n",
        "plt.legend(['Actual','Predicted'], fontsize=12)\n",
        "plt.xlabel('No of Test Data', fontsize=12)\n",
        "plt.ylabel('Closing Price', fontsize=12)\n",
        "plt.grid()"
      ],
      "metadata": {
        "colab": {
          "base_uri": "https://localhost:8080/",
          "height": 373
        },
        "id": "whTrbnTS9daU",
        "outputId": "e835ace4-eeaf-4848-a078-bddbd0cd2443"
      },
      "execution_count": 254,
      "outputs": [
        {
          "output_type": "display_data",
          "data": {
            "image/png": "[encoded data removed]",
            "text/plain": [
              "<Figure size 720x360 with 1 Axes>"
            ]
          },
          "metadata": {
            "needs_background": "light"
          }
        }
      ]
    },
    {
      "cell_type": "markdown",
      "source": [
        "# **Evaluation Matrics Comparison:**"
      ],
      "metadata": {
        "id": "Pf_Ee8ji9t1A"
      }
    },
    {
      "cell_type": "code",
      "source": [
        "def compare_model(X_train, X_test, y_train, y_test, models):\n",
        "  df_columns = []\n",
        "  #Creating dataframe to store the train and test metrics for each of the models\n",
        "  df=pd.DataFrame(columns=df_columns)\n",
        "\n",
        "  i = 0\n",
        "  #need to pass each model one by one\n",
        "  for model in models:\n",
        "    #fiting each model training dataset\n",
        "    model.fit(X_train, y_train)\n",
        "    #predicting y values for each model\n",
        "    y_pred = model.predict(X_test)\n",
        "    #getting accuracy score for each model\n",
        "    accuracy = model.score(X_test, y_test)\n",
        "\n",
        "    #getting all evaluation matrics for each model\n",
        "    MSE = round(mean_squared_error(y_test, y_pred), 4)\n",
        "    RMSE = round(math.sqrt(mean_squared_error(y_test, y_pred)),4)\n",
        "    MAE = round(mean_absolute_error(y_test, y_pred),4)\n",
        "    MAPE = round(mean_absolute_percentage_error(y_test, y_pred),4)\n",
        "    R2 = round(r2_score(y_test, y_pred), 4)\n",
        "\n",
        "\n",
        "    #getting all above into dataframe\n",
        "    df.loc[i,\"Model\"] = model.__class__.__name__\n",
        "    df.loc[i, \"MSE\"] = MSE\n",
        "    df.loc[i, \"RMSE\"] = RMSE\n",
        "    df.loc[i, \"MAE\"] = MAE\n",
        "    df.loc[i, \"MAPE\"] = MAPE\n",
        "    df.loc[i, \"R2\"] = R2\n",
        "  \n",
        "    \n",
        "    #to get values in next rows for next model\n",
        "    i=i+1\n",
        " #Sorting values by accuracy\n",
        "  df.sort_values(by=['R2'],ascending=False,inplace=True, ignore_index=True)\n",
        "    \n",
        "  return df\n",
        "\n"
      ],
      "metadata": {
        "id": "zMt0keYp9pUc"
      },
      "execution_count": 255,
      "outputs": []
    },
    {
      "cell_type": "code",
      "source": [
        "model = [linear_reg, lasso_reg, ridge_reg, elastic]"
      ],
      "metadata": {
        "id": "ABZYzZy5Az-8"
      },
      "execution_count": 256,
      "outputs": []
    },
    {
      "cell_type": "code",
      "source": [
        "# now pass through function\n",
        "#Evaluation Matrics Comparison\n",
        "matrics_compare_df = compare_model(X_train, X_test, y_train, y_test, model)\n",
        "matrics_compare_df.sort_values(by=['R2'],ascending=True,inplace=True)\n",
        "matrics_compare_df"
      ],
      "metadata": {
        "colab": {
          "base_uri": "https://localhost:8080/",
          "height": 175
        },
        "id": "j0e8s-TqA-Ib",
        "outputId": "28327cba-1026-47ff-895c-952f3989913c"
      },
      "execution_count": 257,
      "outputs": [
        {
          "output_type": "execute_result",
          "data": {
            "text/html": [
              "\n",
              "  <div id=\"df-3815e55f-662d-41ac-821f-554b849a4286\">\n",
              "    <div class=\"colab-df-container\">\n",
              "      <div>\n",
              "<style scoped>\n",
              "    .dataframe tbody tr th:only-of-type {\n",
              "        vertical-align: middle;\n",
              "    }\n",
              "\n",
              "    .dataframe tbody tr th {\n",
              "        vertical-align: top;\n",
              "    }\n",
              "\n",
              "    .dataframe thead th {\n",
              "        text-align: right;\n",
              "    }\n",
              "</style>\n",
              "<table border=\"1\" class=\"dataframe\">\n",
              "  <thead>\n",
              "    <tr style=\"text-align: right;\">\n",
              "      <th></th>\n",
              "      <th>Model</th>\n",
              "      <th>MSE</th>\n",
              "      <th>RMSE</th>\n",
              "      <th>MAE</th>\n",
              "      <th>MAPE</th>\n",
              "      <th>R2</th>\n",
              "    </tr>\n",
              "  </thead>\n",
              "  <tbody>\n",
              "    <tr>\n",
              "      <th>3</th>\n",
              "      <td>Lasso</td>\n",
              "      <td>0.0436</td>\n",
              "      <td>0.2088</td>\n",
              "      <td>0.1672</td>\n",
              "      <td>0.1099</td>\n",
              "      <td>0.7550</td>\n",
              "    </tr>\n",
              "    <tr>\n",
              "      <th>2</th>\n",
              "      <td>ElasticNet</td>\n",
              "      <td>0.0364</td>\n",
              "      <td>0.1908</td>\n",
              "      <td>0.1574</td>\n",
              "      <td>0.1024</td>\n",
              "      <td>0.7955</td>\n",
              "    </tr>\n",
              "    <tr>\n",
              "      <th>1</th>\n",
              "      <td>Ridge</td>\n",
              "      <td>0.0316</td>\n",
              "      <td>0.1777</td>\n",
              "      <td>0.1513</td>\n",
              "      <td>0.0954</td>\n",
              "      <td>0.8225</td>\n",
              "    </tr>\n",
              "    <tr>\n",
              "      <th>0</th>\n",
              "      <td>LinearRegression</td>\n",
              "      <td>0.0316</td>\n",
              "      <td>0.1777</td>\n",
              "      <td>0.1513</td>\n",
              "      <td>0.0954</td>\n",
              "      <td>0.8226</td>\n",
              "    </tr>\n",
              "  </tbody>\n",
              "</table>\n",
              "</div>\n",
              "      <button class=\"colab-df-convert\" onclick=\"convertToInteractive('df-3815e55f-662d-41ac-821f-554b849a4286')\"\n",
              "              title=\"Convert this dataframe to an interactive table.\"\n",
              "              style=\"display:none;\">\n",
              "        \n",
              "  <svg xmlns=\"http://www.w3.org/2000/svg\" height=\"24px\"viewBox=\"0 0 24 24\"\n",
              "       width=\"24px\">\n",
              "    <path d=\"M0 0h24v24H0V0z\" fill=\"none\"/>\n",
              "    <path d=\"M18.56 5.44l.94 2.06.94-2.06 2.06-.94-2.06-.94-.94-2.06-.94 2.06-2.06.94zm-11 1L8.5 8.5l.94-2.06 2.06-.94-2.06-.94L8.5 2.5l-.94 2.06-2.06.94zm10 10l.94 2.06.94-2.06 2.06-.94-2.06-.94-.94-2.06-.94 2.06-2.06.94z\"/><path d=\"M17.41 7.96l-1.37-1.37c-.4-.4-.92-.59-1.43-.59-.52 0-1.04.2-1.43.59L10.3 9.45l-7.72 7.72c-.78.78-.78 2.05 0 2.83L4 21.41c.39.39.9.59 1.41.59.51 0 1.02-.2 1.41-.59l7.78-7.78 2.81-2.81c.8-.78.8-2.07 0-2.86zM5.41 20L4 18.59l7.72-7.72 1.47 1.35L5.41 20z\"/>\n",
              "  </svg>\n",
              "      </button>\n",
              "      \n",
              "  <style>\n",
              "    .colab-df-container {\n",
              "      display:flex;\n",
              "      flex-wrap:wrap;\n",
              "      gap: 12px;\n",
              "    }\n",
              "\n",
              "    .colab-df-convert {\n",
              "      background-color: #E8F0FE;\n",
              "      border: none;\n",
              "      border-radius: 50%;\n",
              "      cursor: pointer;\n",
              "      display: none;\n",
              "      fill: #1967D2;\n",
              "      height: 32px;\n",
              "      padding: 0 0 0 0;\n",
              "      width: 32px;\n",
              "    }\n",
              "\n",
              "    .colab-df-convert:hover {\n",
              "      background-color: #E2EBFA;\n",
              "      box-shadow: 0px 1px 2px rgba(60, 64, 67, 0.3), 0px 1px 3px 1px rgba(60, 64, 67, 0.15);\n",
              "      fill: #174EA6;\n",
              "    }\n",
              "\n",
              "    [theme=dark] .colab-df-convert {\n",
              "      background-color: #3B4455;\n",
              "      fill: #D2E3FC;\n",
              "    }\n",
              "\n",
              "    [theme=dark] .colab-df-convert:hover {\n",
              "      background-color: #434B5C;\n",
              "      box-shadow: 0px 1px 3px 1px rgba(0, 0, 0, 0.15);\n",
              "      filter: drop-shadow(0px 1px 2px rgba(0, 0, 0, 0.3));\n",
              "      fill: #FFFFFF;\n",
              "    }\n",
              "  </style>\n",
              "\n",
              "      <script>\n",
              "        const buttonEl =\n",
              "          document.querySelector('#df-3815e55f-662d-41ac-821f-554b849a4286 button.colab-df-convert');\n",
              "        buttonEl.style.display =\n",
              "          google.colab.kernel.accessAllowed ? 'block' : 'none';\n",
              "\n",
              "        async function convertToInteractive(key) {\n",
              "          const element = document.querySelector('#df-3815e55f-662d-41ac-821f-554b849a4286');\n",
              "          const dataTable =\n",
              "            await google.colab.kernel.invokeFunction('convertToInteractive',\n",
              "                                                     [key], {});\n",
              "          if (!dataTable) return;\n",
              "\n",
              "          const docLinkHtml = 'Like what you see? Visit the ' +\n",
              "            '<a target=\"_blank\" href=https://colab.research.google.com/notebooks/data_table.ipynb>data table notebook</a>'\n",
              "            + ' to learn more about interactive tables.';\n",
              "          element.innerHTML = '';\n",
              "          dataTable['output_type'] = 'display_data';\n",
              "          await google.colab.output.renderOutput(dataTable, element);\n",
              "          const docLink = document.createElement('div');\n",
              "          docLink.innerHTML = docLinkHtml;\n",
              "          element.appendChild(docLink);\n",
              "        }\n",
              "      </script>\n",
              "    </div>\n",
              "  </div>\n",
              "  "
            ],
            "text/plain": [
              "              Model     MSE    RMSE     MAE    MAPE      R2\n",
              "3             Lasso  0.0436  0.2088  0.1672  0.1099  0.7550\n",
              "2        ElasticNet  0.0364  0.1908  0.1574  0.1024  0.7955\n",
              "1             Ridge  0.0316  0.1777  0.1513  0.0954  0.8225\n",
              "0  LinearRegression  0.0316  0.1777  0.1513  0.0954  0.8226"
            ]
          },
          "metadata": {},
          "execution_count": 257
        }
      ]
    },
    {
      "cell_type": "markdown",
      "source": [
        "# **Conclusion**"
      ],
      "metadata": {
        "id": "KOg9WrHG9tPJ"
      }
    },
    {
      "cell_type": "markdown",
      "source": [
        "*  Target variable(dependent variable) strongly dependent on independent variables\n",
        "*  We get maximum accuracy of 82%\n",
        "*  Linear regression and Ridge regression get almost same R squared value\n",
        "*  Whereas Lasso model shows lowest R squared value and high MSE,RMSE,MAE,MAPE"
      ],
      "metadata": {
        "id": "SuuNXvWiMYK_"
      }
    }
  ]
}